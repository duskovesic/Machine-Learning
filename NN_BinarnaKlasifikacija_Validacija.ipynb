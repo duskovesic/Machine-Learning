{
  "nbformat": 4,
  "nbformat_minor": 0,
  "metadata": {
    "colab": {
      "provenance": [],
      "authorship_tag": "ABX9TyMMBwlihInbaT4cJtW/Mtn5",
      "include_colab_link": true
    },
    "kernelspec": {
      "name": "python3",
      "display_name": "Python 3"
    },
    "language_info": {
      "name": "python"
    }
  },
  "cells": [
    {
      "cell_type": "markdown",
      "metadata": {
        "id": "view-in-github",
        "colab_type": "text"
      },
      "source": [
        "<a href=\"https://colab.research.google.com/github/duskovesic/Machine-Learning/blob/main/NN_BinarnaKlasifikacija_Validacija.ipynb\" target=\"_parent\"><img src=\"https://colab.research.google.com/assets/colab-badge.svg\" alt=\"Open In Colab\"/></a>"
      ]
    },
    {
      "cell_type": "markdown",
      "source": [
        "#Uvod\n"
      ],
      "metadata": {
        "id": "NanK651VmdMP"
      }
    },
    {
      "cell_type": "markdown",
      "source": [
        "Kao i u prethodnoj svesci i u ovoj je primer rešavanja problema binarne klasifikacije. Koristi se baza podataka „Breast Cancer Database“. Takođe je kreirana mreža sa dva skrivena sloja, ali je pri treniranju ove mreže upotrebljen skup za validaciju podataka."
      ],
      "metadata": {
        "id": "_oxWwzIOmgSv"
      }
    },
    {
      "cell_type": "markdown",
      "source": [
        "# Importovanje biblioteka i setapovanje"
      ],
      "metadata": {
        "id": "OG4k4oZGNcTV"
      }
    },
    {
      "cell_type": "code",
      "execution_count": null,
      "metadata": {
        "id": "e7gX1uHOs3bz"
      },
      "outputs": [],
      "source": [
        "import numpy as np\n",
        "\n",
        "from sklearn.datasets import load_breast_cancer\n",
        "from sklearn.model_selection import train_test_split\n",
        "from sklearn.preprocessing import StandardScaler\n",
        "from sklearn.metrics import confusion_matrix\n",
        "\n",
        "from tensorflow.keras.models import Sequential\n",
        "from tensorflow.keras.layers import InputLayer, Dense\n",
        "\n",
        "from matplotlib import pyplot as plt\n",
        "\n",
        "RS = 123\n",
        "NUM_NEURONS_1 = 30\n",
        "NUM_NEURONS_2 = 15\n",
        "BATCH_SIZE = 32\n",
        "NUM_EPOCHS = 50"
      ]
    },
    {
      "cell_type": "markdown",
      "source": [
        "# Učitavanje podataka"
      ],
      "metadata": {
        "id": "frxRzzUKNjBq"
      }
    },
    {
      "cell_type": "code",
      "source": [
        "data = load_breast_cancer()\n",
        "X = data.data\n",
        "y = data.target"
      ],
      "metadata": {
        "id": "ildt6HvhuzzJ"
      },
      "execution_count": null,
      "outputs": []
    },
    {
      "cell_type": "code",
      "source": [
        "print(data.DESCR)"
      ],
      "metadata": {
        "id": "2bhXLNARxT__",
        "colab": {
          "base_uri": "https://localhost:8080/"
        },
        "outputId": "ba920f10-7063-43be-d7d6-452c48ae5d50"
      },
      "execution_count": null,
      "outputs": [
        {
          "output_type": "stream",
          "name": "stdout",
          "text": [
            ".. _breast_cancer_dataset:\n",
            "\n",
            "Breast cancer wisconsin (diagnostic) dataset\n",
            "--------------------------------------------\n",
            "\n",
            "**Data Set Characteristics:**\n",
            "\n",
            "    :Number of Instances: 569\n",
            "\n",
            "    :Number of Attributes: 30 numeric, predictive attributes and the class\n",
            "\n",
            "    :Attribute Information:\n",
            "        - radius (mean of distances from center to points on the perimeter)\n",
            "        - texture (standard deviation of gray-scale values)\n",
            "        - perimeter\n",
            "        - area\n",
            "        - smoothness (local variation in radius lengths)\n",
            "        - compactness (perimeter^2 / area - 1.0)\n",
            "        - concavity (severity of concave portions of the contour)\n",
            "        - concave points (number of concave portions of the contour)\n",
            "        - symmetry\n",
            "        - fractal dimension (\"coastline approximation\" - 1)\n",
            "\n",
            "        The mean, standard error, and \"worst\" or largest (mean of the three\n",
            "        worst/largest values) of these features were computed for each image,\n",
            "        resulting in 30 features.  For instance, field 0 is Mean Radius, field\n",
            "        10 is Radius SE, field 20 is Worst Radius.\n",
            "\n",
            "        - class:\n",
            "                - WDBC-Malignant\n",
            "                - WDBC-Benign\n",
            "\n",
            "    :Summary Statistics:\n",
            "\n",
            "    ===================================== ====== ======\n",
            "                                           Min    Max\n",
            "    ===================================== ====== ======\n",
            "    radius (mean):                        6.981  28.11\n",
            "    texture (mean):                       9.71   39.28\n",
            "    perimeter (mean):                     43.79  188.5\n",
            "    area (mean):                          143.5  2501.0\n",
            "    smoothness (mean):                    0.053  0.163\n",
            "    compactness (mean):                   0.019  0.345\n",
            "    concavity (mean):                     0.0    0.427\n",
            "    concave points (mean):                0.0    0.201\n",
            "    symmetry (mean):                      0.106  0.304\n",
            "    fractal dimension (mean):             0.05   0.097\n",
            "    radius (standard error):              0.112  2.873\n",
            "    texture (standard error):             0.36   4.885\n",
            "    perimeter (standard error):           0.757  21.98\n",
            "    area (standard error):                6.802  542.2\n",
            "    smoothness (standard error):          0.002  0.031\n",
            "    compactness (standard error):         0.002  0.135\n",
            "    concavity (standard error):           0.0    0.396\n",
            "    concave points (standard error):      0.0    0.053\n",
            "    symmetry (standard error):            0.008  0.079\n",
            "    fractal dimension (standard error):   0.001  0.03\n",
            "    radius (worst):                       7.93   36.04\n",
            "    texture (worst):                      12.02  49.54\n",
            "    perimeter (worst):                    50.41  251.2\n",
            "    area (worst):                         185.2  4254.0\n",
            "    smoothness (worst):                   0.071  0.223\n",
            "    compactness (worst):                  0.027  1.058\n",
            "    concavity (worst):                    0.0    1.252\n",
            "    concave points (worst):               0.0    0.291\n",
            "    symmetry (worst):                     0.156  0.664\n",
            "    fractal dimension (worst):            0.055  0.208\n",
            "    ===================================== ====== ======\n",
            "\n",
            "    :Missing Attribute Values: None\n",
            "\n",
            "    :Class Distribution: 212 - Malignant, 357 - Benign\n",
            "\n",
            "    :Creator:  Dr. William H. Wolberg, W. Nick Street, Olvi L. Mangasarian\n",
            "\n",
            "    :Donor: Nick Street\n",
            "\n",
            "    :Date: November, 1995\n",
            "\n",
            "This is a copy of UCI ML Breast Cancer Wisconsin (Diagnostic) datasets.\n",
            "https://goo.gl/U2Uwz2\n",
            "\n",
            "Features are computed from a digitized image of a fine needle\n",
            "aspirate (FNA) of a breast mass.  They describe\n",
            "characteristics of the cell nuclei present in the image.\n",
            "\n",
            "Separating plane described above was obtained using\n",
            "Multisurface Method-Tree (MSM-T) [K. P. Bennett, \"Decision Tree\n",
            "Construction Via Linear Programming.\" Proceedings of the 4th\n",
            "Midwest Artificial Intelligence and Cognitive Science Society,\n",
            "pp. 97-101, 1992], a classification method which uses linear\n",
            "programming to construct a decision tree.  Relevant features\n",
            "were selected using an exhaustive search in the space of 1-4\n",
            "features and 1-3 separating planes.\n",
            "\n",
            "The actual linear program used to obtain the separating plane\n",
            "in the 3-dimensional space is that described in:\n",
            "[K. P. Bennett and O. L. Mangasarian: \"Robust Linear\n",
            "Programming Discrimination of Two Linearly Inseparable Sets\",\n",
            "Optimization Methods and Software 1, 1992, 23-34].\n",
            "\n",
            "This database is also available through the UW CS ftp server:\n",
            "\n",
            "ftp ftp.cs.wisc.edu\n",
            "cd math-prog/cpo-dataset/machine-learn/WDBC/\n",
            "\n",
            ".. topic:: References\n",
            "\n",
            "   - W.N. Street, W.H. Wolberg and O.L. Mangasarian. Nuclear feature extraction \n",
            "     for breast tumor diagnosis. IS&T/SPIE 1993 International Symposium on \n",
            "     Electronic Imaging: Science and Technology, volume 1905, pages 861-870,\n",
            "     San Jose, CA, 1993.\n",
            "   - O.L. Mangasarian, W.N. Street and W.H. Wolberg. Breast cancer diagnosis and \n",
            "     prognosis via linear programming. Operations Research, 43(4), pages 570-577, \n",
            "     July-August 1995.\n",
            "   - W.H. Wolberg, W.N. Street, and O.L. Mangasarian. Machine learning techniques\n",
            "     to diagnose breast cancer from fine-needle aspirates. Cancer Letters 77 (1994) \n",
            "     163-171.\n"
          ]
        }
      ]
    },
    {
      "cell_type": "code",
      "source": [
        "type(X), type(y)"
      ],
      "metadata": {
        "colab": {
          "base_uri": "https://localhost:8080/"
        },
        "id": "hexa8HiIxI_V",
        "outputId": "8f63606a-6c72-4c5f-8ffd-4cb296ca5bdb"
      },
      "execution_count": null,
      "outputs": [
        {
          "output_type": "execute_result",
          "data": {
            "text/plain": [
              "(numpy.ndarray, numpy.ndarray)"
            ]
          },
          "metadata": {},
          "execution_count": 66
        }
      ]
    },
    {
      "cell_type": "code",
      "source": [
        "X.shape, y.shape"
      ],
      "metadata": {
        "colab": {
          "base_uri": "https://localhost:8080/"
        },
        "id": "rxhzBYbnvmVI",
        "outputId": "2e37a355-05bf-440f-f975-6eca3cbd5a50"
      },
      "execution_count": null,
      "outputs": [
        {
          "output_type": "execute_result",
          "data": {
            "text/plain": [
              "((569, 30), (569,))"
            ]
          },
          "metadata": {},
          "execution_count": 67
        }
      ]
    },
    {
      "cell_type": "markdown",
      "source": [
        "# Train-val-test podela"
      ],
      "metadata": {
        "id": "XClpZ_7LNqQb"
      }
    },
    {
      "cell_type": "code",
      "source": [
        "X_train_val, X_test, y_train_val, y_test = train_test_split(X, y, test_size=0.3, random_state=RS, stratify=y)"
      ],
      "metadata": {
        "id": "AI3gt3MwNvKI"
      },
      "execution_count": null,
      "outputs": []
    },
    {
      "cell_type": "code",
      "source": [
        "X_train_val.shape, X_test.shape, y_train_val.shape, y_test.shape"
      ],
      "metadata": {
        "id": "nhRJZp24xDv-",
        "colab": {
          "base_uri": "https://localhost:8080/"
        },
        "outputId": "cf1d81b4-7079-43ea-d171-5c93f38b97c1"
      },
      "execution_count": null,
      "outputs": [
        {
          "output_type": "execute_result",
          "data": {
            "text/plain": [
              "((398, 30), (171, 30), (398,), (171,))"
            ]
          },
          "metadata": {},
          "execution_count": 69
        }
      ]
    },
    {
      "cell_type": "code",
      "source": [
        "X_train, X_val, y_train, y_val = train_test_split(X_train_val, y_train_val, test_size=0.2, random_state=RS, stratify=y_train_val)"
      ],
      "metadata": {
        "id": "D9NpATfUkBlX"
      },
      "execution_count": null,
      "outputs": []
    },
    {
      "cell_type": "code",
      "source": [
        "X_train.shape, X_val.shape, y_train.shape, y_val.shape"
      ],
      "metadata": {
        "colab": {
          "base_uri": "https://localhost:8080/"
        },
        "id": "Rf6HBwP1krj8",
        "outputId": "2a58d11a-c322-44cc-b5e3-1715ac896775"
      },
      "execution_count": null,
      "outputs": [
        {
          "output_type": "execute_result",
          "data": {
            "text/plain": [
              "((318, 30), (80, 30), (318,), (80,))"
            ]
          },
          "metadata": {},
          "execution_count": 71
        }
      ]
    },
    {
      "cell_type": "code",
      "source": [
        "np.sum(y_train == 1)/len(y_train), np.sum(y_val == 1)/len(y_val), np.sum(y_test == 1)/len(y_test)"
      ],
      "metadata": {
        "colab": {
          "base_uri": "https://localhost:8080/"
        },
        "id": "9CzuiP99PL7_",
        "outputId": "5cc0d4d6-7906-41bd-c7d1-7a7409a6e5b4"
      },
      "execution_count": null,
      "outputs": [
        {
          "output_type": "execute_result",
          "data": {
            "text/plain": [
              "(0.6289308176100629, 0.625, 0.6257309941520468)"
            ]
          },
          "metadata": {},
          "execution_count": 72
        }
      ]
    },
    {
      "cell_type": "markdown",
      "source": [
        "# Standardizacija"
      ],
      "metadata": {
        "id": "JJTNI6DoRxY0"
      }
    },
    {
      "cell_type": "code",
      "source": [
        "X_train, X_val, X_test"
      ],
      "metadata": {
        "colab": {
          "base_uri": "https://localhost:8080/"
        },
        "id": "DJwEVYWwSWVL",
        "outputId": "9500fbae-d657-4c2c-b44c-d980488e4ecd"
      },
      "execution_count": null,
      "outputs": [
        {
          "output_type": "execute_result",
          "data": {
            "text/plain": [
              "(array([[8.726e+00, 1.583e+01, 5.584e+01, ..., 1.050e-01, 2.926e-01,\n",
              "         1.017e-01],\n",
              "        [1.617e+01, 1.607e+01, 1.063e+02, ..., 1.251e-01, 3.153e-01,\n",
              "         8.960e-02],\n",
              "        [1.917e+01, 2.480e+01, 1.324e+02, ..., 1.767e-01, 3.176e-01,\n",
              "         1.023e-01],\n",
              "        ...,\n",
              "        [1.513e+01, 2.981e+01, 9.671e+01, ..., 6.575e-02, 3.233e-01,\n",
              "         6.165e-02],\n",
              "        [1.388e+01, 1.616e+01, 8.837e+01, ..., 4.537e-02, 2.542e-01,\n",
              "         6.623e-02],\n",
              "        [1.051e+01, 2.019e+01, 6.864e+01, ..., 6.136e-02, 2.383e-01,\n",
              "         9.026e-02]]),\n",
              " array([[1.207e+01, 1.344e+01, 7.783e+01, ..., 7.393e-02, 2.781e-01,\n",
              "         8.052e-02],\n",
              "        [1.289e+01, 1.411e+01, 8.495e+01, ..., 1.561e-01, 2.639e-01,\n",
              "         1.178e-01],\n",
              "        [1.405e+01, 2.715e+01, 9.138e+01, ..., 1.048e-01, 2.250e-01,\n",
              "         8.321e-02],\n",
              "        ...,\n",
              "        [1.321e+01, 2.806e+01, 8.488e+01, ..., 7.958e-02, 2.473e-01,\n",
              "         6.443e-02],\n",
              "        [1.665e+01, 2.138e+01, 1.100e+02, ..., 2.095e-01, 3.613e-01,\n",
              "         9.564e-02],\n",
              "        [1.902e+01, 2.459e+01, 1.220e+02, ..., 1.956e-01, 3.956e-01,\n",
              "         9.288e-02]]),\n",
              " array([[9.720e+00, 1.822e+01, 6.073e+01, ..., 0.000e+00, 1.909e-01,\n",
              "         6.559e-02],\n",
              "        [1.614e+01, 1.486e+01, 1.043e+02, ..., 1.129e-01, 2.778e-01,\n",
              "         7.012e-02],\n",
              "        [1.247e+01, 1.860e+01, 8.109e+01, ..., 1.015e-01, 3.014e-01,\n",
              "         8.750e-02],\n",
              "        ...,\n",
              "        [1.729e+01, 2.213e+01, 1.144e+02, ..., 1.528e-01, 3.067e-01,\n",
              "         7.484e-02],\n",
              "        [1.390e+01, 1.924e+01, 8.873e+01, ..., 8.150e-02, 2.356e-01,\n",
              "         7.603e-02],\n",
              "        [1.768e+01, 2.074e+01, 1.174e+02, ..., 1.515e-01, 2.463e-01,\n",
              "         7.738e-02]]))"
            ]
          },
          "metadata": {},
          "execution_count": 73
        }
      ]
    },
    {
      "cell_type": "code",
      "source": [
        "scaler = StandardScaler()\n",
        "scaler.fit(X_train)\n",
        "X_train = scaler.transform(X_train)\n",
        "X_val = scaler.transform(X_val)\n",
        "X_test = scaler.transform(X_test)"
      ],
      "metadata": {
        "id": "4WQQZfgfRrgS"
      },
      "execution_count": null,
      "outputs": []
    },
    {
      "cell_type": "code",
      "source": [
        "X_train, X_val, X_test"
      ],
      "metadata": {
        "colab": {
          "base_uri": "https://localhost:8080/"
        },
        "id": "5IvCI4ZnSPbv",
        "outputId": "0ac6260a-9ad2-4d2c-9677-4d418dcf50f8"
      },
      "execution_count": null,
      "outputs": [
        {
          "output_type": "execute_result",
          "data": {
            "text/plain": [
              "(array([[-1.46404081, -0.79260017, -1.42475307, ..., -0.13749859,\n",
              "          0.01963809,  0.89821962],\n",
              "        [ 0.58552472, -0.73564471,  0.59940964, ...,  0.1617225 ,\n",
              "          0.37315305,  0.25124161],\n",
              "        [ 1.41151835,  1.33610979,  1.64639036, ...,  0.92987215,\n",
              "          0.40897174,  0.93030117],\n",
              "        ...,\n",
              "        [ 0.29918026,  2.52505481,  0.21471443, ..., -0.72179848,\n",
              "          0.49773982, -1.24322411],\n",
              "        [-0.04498375, -0.71428642, -0.11983803, ..., -1.02518782,\n",
              "         -0.57837841, -0.99833492],\n",
              "        [-0.97284993,  0.24209051, -0.91129127, ..., -0.78715074,\n",
              "         -0.82599461,  0.28653132]]),\n",
              " array([[-5.43333243e-01, -1.35978152e+00, -5.42641736e-01, ...,\n",
              "         -6.00025914e-01, -2.06175433e-01, -2.34259238e-01],\n",
              "        [-3.17561650e-01, -1.20078089e+00, -2.57028606e-01, ...,\n",
              "          6.23207754e-01, -4.27316949e-01,  1.75907465e+00],\n",
              "        [ 1.82255408e-03,  1.89379857e+00,  9.05723214e-04, ...,\n",
              "         -1.40475916e-01, -1.03312012e+00, -9.04269378e-02],\n",
              "        ...,\n",
              "        [-2.29455663e-01,  2.10975465e+00, -2.59836600e-01, ...,\n",
              "         -5.15916504e-01, -6.85834496e-01, -1.09457958e+00],\n",
              "        [ 7.17683702e-01,  5.24494622e-01,  7.47832195e-01, ...,\n",
              "          1.41815333e+00,  1.08952697e+00,  5.74195922e-01],\n",
              "        [ 1.37021867e+00,  1.28627377e+00,  1.22920264e+00, ...,\n",
              "          1.21122929e+00,  1.62369275e+00,  4.26620774e-01]]),\n",
              " array([[-1.19036159, -0.22541881, -1.22859462, ..., -1.70059382,\n",
              "         -1.56417122, -1.03255524],\n",
              "        [ 0.57726478, -1.02279511,  0.51918123, ..., -0.01989428,\n",
              "         -0.21084744, -0.79033951],\n",
              "        [-0.43320076, -0.13523934, -0.41186943, ..., -0.18960177,\n",
              "          0.15668353,  0.13895617],\n",
              "        ...,\n",
              "        [ 0.89389568,  0.7024804 ,  0.92433469, ...,  0.5740819 ,\n",
              "          0.23922227, -0.53796462],\n",
              "        [-0.03947713,  0.01664186, -0.10539692, ..., -0.48733419,\n",
              "         -0.86804265, -0.4743362 ],\n",
              "        [ 1.00127485,  0.37261342,  1.0446773 , ...,  0.5547293 ,\n",
              "         -0.70140784, -0.4021527 ]]))"
            ]
          },
          "metadata": {},
          "execution_count": 75
        }
      ]
    },
    {
      "cell_type": "markdown",
      "source": [
        "# Kreiranje mreže"
      ],
      "metadata": {
        "id": "KUBVrJAl7Z6R"
      }
    },
    {
      "cell_type": "code",
      "source": [
        "model = Sequential([\n",
        "    InputLayer(input_shape=((X_train.shape[1],))),\n",
        "    Dense(units=NUM_NEURONS_1, activation=\"relu\"),\n",
        "    Dense(units=NUM_NEURONS_2, activation=\"relu\"),\n",
        "    Dense(units=1, activation=\"sigmoid\")\n",
        "])"
      ],
      "metadata": {
        "id": "kocsAHqB7cWy"
      },
      "execution_count": null,
      "outputs": []
    },
    {
      "cell_type": "code",
      "source": [
        "model.summary()"
      ],
      "metadata": {
        "colab": {
          "base_uri": "https://localhost:8080/"
        },
        "id": "oM_1_-2wG84o",
        "outputId": "5c841a6a-0dfd-4d2c-bca6-ef61cc62d12d"
      },
      "execution_count": null,
      "outputs": [
        {
          "output_type": "stream",
          "name": "stdout",
          "text": [
            "Model: \"sequential_2\"\n",
            "_________________________________________________________________\n",
            " Layer (type)                Output Shape              Param #   \n",
            "=================================================================\n",
            " dense_6 (Dense)             (None, 30)                930       \n",
            "                                                                 \n",
            " dense_7 (Dense)             (None, 15)                465       \n",
            "                                                                 \n",
            " dense_8 (Dense)             (None, 1)                 16        \n",
            "                                                                 \n",
            "=================================================================\n",
            "Total params: 1411 (5.51 KB)\n",
            "Trainable params: 1411 (5.51 KB)\n",
            "Non-trainable params: 0 (0.00 Byte)\n",
            "_________________________________________________________________\n"
          ]
        }
      ]
    },
    {
      "cell_type": "code",
      "source": [
        "model.compile(optimizer=\"adam\", metrics=\"accuracy\", loss=\"binary_crossentropy\")"
      ],
      "metadata": {
        "id": "zB3ewXlUHHTe"
      },
      "execution_count": null,
      "outputs": []
    },
    {
      "cell_type": "markdown",
      "source": [
        "#Treniranje mreže"
      ],
      "metadata": {
        "id": "pwYNsCS0Tll0"
      }
    },
    {
      "cell_type": "code",
      "source": [
        "history = model.fit(X_train, y_train, validation_data=((X_val, y_val)), batch_size=BATCH_SIZE, epochs=NUM_EPOCHS, verbose=1)"
      ],
      "metadata": {
        "colab": {
          "base_uri": "https://localhost:8080/"
        },
        "id": "3ocMfJCyHpAT",
        "outputId": "aff6d605-4c35-460d-9bcf-c9e19536d015"
      },
      "execution_count": null,
      "outputs": [
        {
          "output_type": "stream",
          "name": "stdout",
          "text": [
            "Epoch 1/50\n",
            "10/10 [==============================] - 1s 24ms/step - loss: 0.8320 - accuracy: 0.3868 - val_loss: 0.7303 - val_accuracy: 0.4625\n",
            "Epoch 2/50\n",
            "10/10 [==============================] - 0s 6ms/step - loss: 0.5928 - accuracy: 0.7044 - val_loss: 0.5562 - val_accuracy: 0.7875\n",
            "Epoch 3/50\n",
            "10/10 [==============================] - 0s 7ms/step - loss: 0.4481 - accuracy: 0.9057 - val_loss: 0.4408 - val_accuracy: 0.9250\n",
            "Epoch 4/50\n",
            "10/10 [==============================] - 0s 7ms/step - loss: 0.3540 - accuracy: 0.9465 - val_loss: 0.3602 - val_accuracy: 0.9750\n",
            "Epoch 5/50\n",
            "10/10 [==============================] - 0s 5ms/step - loss: 0.2915 - accuracy: 0.9497 - val_loss: 0.2994 - val_accuracy: 0.9750\n",
            "Epoch 6/50\n",
            "10/10 [==============================] - 0s 5ms/step - loss: 0.2456 - accuracy: 0.9497 - val_loss: 0.2528 - val_accuracy: 0.9750\n",
            "Epoch 7/50\n",
            "10/10 [==============================] - 0s 6ms/step - loss: 0.2116 - accuracy: 0.9560 - val_loss: 0.2168 - val_accuracy: 0.9750\n",
            "Epoch 8/50\n",
            "10/10 [==============================] - 0s 5ms/step - loss: 0.1849 - accuracy: 0.9560 - val_loss: 0.1882 - val_accuracy: 0.9750\n",
            "Epoch 9/50\n",
            "10/10 [==============================] - 0s 5ms/step - loss: 0.1653 - accuracy: 0.9623 - val_loss: 0.1670 - val_accuracy: 0.9750\n",
            "Epoch 10/50\n",
            "10/10 [==============================] - 0s 7ms/step - loss: 0.1509 - accuracy: 0.9623 - val_loss: 0.1495 - val_accuracy: 0.9750\n",
            "Epoch 11/50\n",
            "10/10 [==============================] - 0s 5ms/step - loss: 0.1395 - accuracy: 0.9686 - val_loss: 0.1353 - val_accuracy: 0.9750\n",
            "Epoch 12/50\n",
            "10/10 [==============================] - 0s 7ms/step - loss: 0.1299 - accuracy: 0.9717 - val_loss: 0.1231 - val_accuracy: 0.9750\n",
            "Epoch 13/50\n",
            "10/10 [==============================] - 0s 7ms/step - loss: 0.1227 - accuracy: 0.9717 - val_loss: 0.1147 - val_accuracy: 0.9750\n",
            "Epoch 14/50\n",
            "10/10 [==============================] - 0s 5ms/step - loss: 0.1162 - accuracy: 0.9686 - val_loss: 0.1059 - val_accuracy: 0.9875\n",
            "Epoch 15/50\n",
            "10/10 [==============================] - 0s 7ms/step - loss: 0.1108 - accuracy: 0.9686 - val_loss: 0.0985 - val_accuracy: 0.9875\n",
            "Epoch 16/50\n",
            "10/10 [==============================] - 0s 5ms/step - loss: 0.1065 - accuracy: 0.9686 - val_loss: 0.0927 - val_accuracy: 1.0000\n",
            "Epoch 17/50\n",
            "10/10 [==============================] - 0s 6ms/step - loss: 0.1027 - accuracy: 0.9686 - val_loss: 0.0853 - val_accuracy: 1.0000\n",
            "Epoch 18/50\n",
            "10/10 [==============================] - 0s 7ms/step - loss: 0.0990 - accuracy: 0.9686 - val_loss: 0.0806 - val_accuracy: 1.0000\n",
            "Epoch 19/50\n",
            "10/10 [==============================] - 0s 7ms/step - loss: 0.0958 - accuracy: 0.9686 - val_loss: 0.0761 - val_accuracy: 1.0000\n",
            "Epoch 20/50\n",
            "10/10 [==============================] - 0s 5ms/step - loss: 0.0929 - accuracy: 0.9717 - val_loss: 0.0732 - val_accuracy: 1.0000\n",
            "Epoch 21/50\n",
            "10/10 [==============================] - 0s 7ms/step - loss: 0.0905 - accuracy: 0.9717 - val_loss: 0.0701 - val_accuracy: 1.0000\n",
            "Epoch 22/50\n",
            "10/10 [==============================] - 0s 7ms/step - loss: 0.0878 - accuracy: 0.9717 - val_loss: 0.0669 - val_accuracy: 1.0000\n",
            "Epoch 23/50\n",
            "10/10 [==============================] - 0s 7ms/step - loss: 0.0853 - accuracy: 0.9780 - val_loss: 0.0634 - val_accuracy: 1.0000\n",
            "Epoch 24/50\n",
            "10/10 [==============================] - 0s 6ms/step - loss: 0.0831 - accuracy: 0.9811 - val_loss: 0.0601 - val_accuracy: 1.0000\n",
            "Epoch 25/50\n",
            "10/10 [==============================] - 0s 5ms/step - loss: 0.0810 - accuracy: 0.9811 - val_loss: 0.0582 - val_accuracy: 1.0000\n",
            "Epoch 26/50\n",
            "10/10 [==============================] - 0s 7ms/step - loss: 0.0789 - accuracy: 0.9811 - val_loss: 0.0563 - val_accuracy: 1.0000\n",
            "Epoch 27/50\n",
            "10/10 [==============================] - 0s 5ms/step - loss: 0.0772 - accuracy: 0.9811 - val_loss: 0.0553 - val_accuracy: 1.0000\n",
            "Epoch 28/50\n",
            "10/10 [==============================] - 0s 5ms/step - loss: 0.0756 - accuracy: 0.9811 - val_loss: 0.0538 - val_accuracy: 1.0000\n",
            "Epoch 29/50\n",
            "10/10 [==============================] - 0s 7ms/step - loss: 0.0737 - accuracy: 0.9811 - val_loss: 0.0507 - val_accuracy: 1.0000\n",
            "Epoch 30/50\n",
            "10/10 [==============================] - 0s 5ms/step - loss: 0.0719 - accuracy: 0.9811 - val_loss: 0.0499 - val_accuracy: 1.0000\n",
            "Epoch 31/50\n",
            "10/10 [==============================] - 0s 8ms/step - loss: 0.0703 - accuracy: 0.9811 - val_loss: 0.0494 - val_accuracy: 1.0000\n",
            "Epoch 32/50\n",
            "10/10 [==============================] - 0s 5ms/step - loss: 0.0691 - accuracy: 0.9811 - val_loss: 0.0467 - val_accuracy: 1.0000\n",
            "Epoch 33/50\n",
            "10/10 [==============================] - 0s 7ms/step - loss: 0.0671 - accuracy: 0.9811 - val_loss: 0.0462 - val_accuracy: 1.0000\n",
            "Epoch 34/50\n",
            "10/10 [==============================] - 0s 5ms/step - loss: 0.0663 - accuracy: 0.9811 - val_loss: 0.0460 - val_accuracy: 1.0000\n",
            "Epoch 35/50\n",
            "10/10 [==============================] - 0s 7ms/step - loss: 0.0644 - accuracy: 0.9811 - val_loss: 0.0443 - val_accuracy: 1.0000\n",
            "Epoch 36/50\n",
            "10/10 [==============================] - 0s 5ms/step - loss: 0.0630 - accuracy: 0.9811 - val_loss: 0.0433 - val_accuracy: 1.0000\n",
            "Epoch 37/50\n",
            "10/10 [==============================] - 0s 7ms/step - loss: 0.0615 - accuracy: 0.9811 - val_loss: 0.0420 - val_accuracy: 1.0000\n",
            "Epoch 38/50\n",
            "10/10 [==============================] - 0s 5ms/step - loss: 0.0603 - accuracy: 0.9843 - val_loss: 0.0418 - val_accuracy: 1.0000\n",
            "Epoch 39/50\n",
            "10/10 [==============================] - 0s 5ms/step - loss: 0.0587 - accuracy: 0.9843 - val_loss: 0.0399 - val_accuracy: 1.0000\n",
            "Epoch 40/50\n",
            "10/10 [==============================] - 0s 5ms/step - loss: 0.0576 - accuracy: 0.9843 - val_loss: 0.0395 - val_accuracy: 1.0000\n",
            "Epoch 41/50\n",
            "10/10 [==============================] - 0s 5ms/step - loss: 0.0570 - accuracy: 0.9843 - val_loss: 0.0377 - val_accuracy: 1.0000\n",
            "Epoch 42/50\n",
            "10/10 [==============================] - 0s 5ms/step - loss: 0.0552 - accuracy: 0.9843 - val_loss: 0.0380 - val_accuracy: 1.0000\n",
            "Epoch 43/50\n",
            "10/10 [==============================] - 0s 7ms/step - loss: 0.0545 - accuracy: 0.9843 - val_loss: 0.0384 - val_accuracy: 1.0000\n",
            "Epoch 44/50\n",
            "10/10 [==============================] - 0s 9ms/step - loss: 0.0530 - accuracy: 0.9843 - val_loss: 0.0374 - val_accuracy: 1.0000\n",
            "Epoch 45/50\n",
            "10/10 [==============================] - 0s 9ms/step - loss: 0.0519 - accuracy: 0.9843 - val_loss: 0.0361 - val_accuracy: 1.0000\n",
            "Epoch 46/50\n",
            "10/10 [==============================] - 0s 10ms/step - loss: 0.0508 - accuracy: 0.9874 - val_loss: 0.0354 - val_accuracy: 1.0000\n",
            "Epoch 47/50\n",
            "10/10 [==============================] - 0s 10ms/step - loss: 0.0496 - accuracy: 0.9874 - val_loss: 0.0356 - val_accuracy: 1.0000\n",
            "Epoch 48/50\n",
            "10/10 [==============================] - 0s 8ms/step - loss: 0.0487 - accuracy: 0.9843 - val_loss: 0.0354 - val_accuracy: 1.0000\n",
            "Epoch 49/50\n",
            "10/10 [==============================] - 0s 7ms/step - loss: 0.0478 - accuracy: 0.9843 - val_loss: 0.0342 - val_accuracy: 1.0000\n",
            "Epoch 50/50\n",
            "10/10 [==============================] - 0s 7ms/step - loss: 0.0468 - accuracy: 0.9874 - val_loss: 0.0346 - val_accuracy: 1.0000\n"
          ]
        }
      ]
    },
    {
      "cell_type": "code",
      "source": [
        "fig, ax = plt.subplots(1, 2, figsize=(8, 4))\n",
        "\n",
        "ax[0].plot(history.epoch, history.history[\"loss\"], label=\"loss\", color=\"red\")\n",
        "ax[0].plot(history.epoch, history.history[\"val_loss\"], label=\"val_loss\", color=\"orange\")\n",
        "ax[0].set_xlabel(\"epochs\")\n",
        "ax[0].set_ylabel(\"loss\")\n",
        "ax[0].legend()\n",
        "\n",
        "ax[1].plot(history.epoch, history.history[\"accuracy\"], label=\"accuracy\", color=\"green\")\n",
        "ax[1].plot(history.epoch, history.history[\"val_accuracy\"], label=\"val_accuracy\", color=\"blue\")\n",
        "ax[1].set_xlabel(\"epochs\")\n",
        "ax[1].set_ylabel(\"accuracy\")\n",
        "ax[1].legend()\n",
        "\n",
        "plt.show()"
      ],
      "metadata": {
        "colab": {
          "base_uri": "https://localhost:8080/",
          "height": 388
        },
        "id": "zVU1HHdmKOuz",
        "outputId": "d1568e8c-bb4c-4fe4-a8fc-142446891928"
      },
      "execution_count": null,
      "outputs": [
        {
          "output_type": "display_data",
          "data": {
            "text/plain": [
              "<Figure size 800x400 with 2 Axes>"
            ],
            "image/png": "[encoded data removed]"
          },
          "metadata": {}
        }
      ]
    },
    {
      "cell_type": "markdown",
      "source": [
        "#Ocenjivanje mreže"
      ],
      "metadata": {
        "id": "L-hHyJtDTqAk"
      }
    },
    {
      "cell_type": "code",
      "source": [
        "scores = model.evaluate(X_test, y_test, batch_size=BATCH_SIZE)"
      ],
      "metadata": {
        "colab": {
          "base_uri": "https://localhost:8080/"
        },
        "id": "W9IIKr1wLHl2",
        "outputId": "a77e6a53-5972-4f18-f820-ed4645dab4e0"
      },
      "execution_count": null,
      "outputs": [
        {
          "output_type": "stream",
          "name": "stdout",
          "text": [
            "6/6 [==============================] - 0s 3ms/step - loss: 0.0661 - accuracy: 0.9883\n"
          ]
        }
      ]
    },
    {
      "cell_type": "code",
      "source": [
        "model.metrics_names"
      ],
      "metadata": {
        "colab": {
          "base_uri": "https://localhost:8080/"
        },
        "id": "f8FCLafrSjqQ",
        "outputId": "f3a3afd6-d4ca-4105-eeae-73db5e3c19fb"
      },
      "execution_count": null,
      "outputs": [
        {
          "output_type": "execute_result",
          "data": {
            "text/plain": [
              "['loss', 'accuracy']"
            ]
          },
          "metadata": {},
          "execution_count": 82
        }
      ]
    },
    {
      "cell_type": "code",
      "source": [
        "scores"
      ],
      "metadata": {
        "colab": {
          "base_uri": "https://localhost:8080/"
        },
        "id": "RXi5VnvtSQAR",
        "outputId": "1434d9c3-8d92-4927-e3ab-220bdfb8290c"
      },
      "execution_count": null,
      "outputs": [
        {
          "output_type": "execute_result",
          "data": {
            "text/plain": [
              "[0.06605847924947739, 0.988304078578949]"
            ]
          },
          "metadata": {},
          "execution_count": 83
        }
      ]
    },
    {
      "cell_type": "code",
      "source": [
        "y_predict = model.predict(X_test)"
      ],
      "metadata": {
        "colab": {
          "base_uri": "https://localhost:8080/"
        },
        "id": "ehpabqXSSno-",
        "outputId": "fb07dfcc-9bca-4684-97f0-f1c3481c782f"
      },
      "execution_count": null,
      "outputs": [
        {
          "output_type": "stream",
          "name": "stdout",
          "text": [
            "6/6 [==============================] - 0s 2ms/step\n"
          ]
        }
      ]
    },
    {
      "cell_type": "code",
      "source": [
        "y_predict"
      ],
      "metadata": {
        "colab": {
          "base_uri": "https://localhost:8080/"
        },
        "id": "otgTkCqdUPmX",
        "outputId": "47a8971b-8ac1-4c08-824b-70b21be7104e"
      },
      "execution_count": null,
      "outputs": [
        {
          "output_type": "execute_result",
          "data": {
            "text/plain": [
              "array([[9.9996126e-01],\n",
              "       [9.0116787e-01],\n",
              "       [8.9616126e-01],\n",
              "       [9.9853599e-01],\n",
              "       [2.6849922e-04],\n",
              "       [3.4109957e-09],\n",
              "       [4.5278217e-03],\n",
              "       [9.9988300e-01],\n",
              "       [9.8777652e-01],\n",
              "       [9.9996054e-01],\n",
              "       [1.5874824e-05],\n",
              "       [9.9432963e-01],\n",
              "       [2.6393915e-02],\n",
              "       [3.1311575e-03],\n",
              "       [5.2983728e-03],\n",
              "       [9.9992162e-01],\n",
              "       [7.1729912e-05],\n",
              "       [9.9144953e-01],\n",
              "       [9.8825467e-01],\n",
              "       [8.2880390e-01],\n",
              "       [9.9978358e-01],\n",
              "       [9.9986464e-01],\n",
              "       [1.6077384e-03],\n",
              "       [9.2722321e-01],\n",
              "       [3.9760862e-03],\n",
              "       [9.6254033e-01],\n",
              "       [9.9648124e-01],\n",
              "       [9.9986213e-01],\n",
              "       [9.9643660e-01],\n",
              "       [1.1372729e-03],\n",
              "       [9.9994957e-01],\n",
              "       [8.9074992e-02],\n",
              "       [9.9324429e-01],\n",
              "       [9.9432963e-01],\n",
              "       [9.8404664e-01],\n",
              "       [9.9998343e-01],\n",
              "       [9.1364840e-03],\n",
              "       [9.9958175e-01],\n",
              "       [9.9866438e-01],\n",
              "       [9.9829048e-01],\n",
              "       [9.6217990e-01],\n",
              "       [9.9949038e-01],\n",
              "       [9.9998176e-01],\n",
              "       [1.2608531e-02],\n",
              "       [1.4645015e-06],\n",
              "       [9.9966443e-01],\n",
              "       [9.9943280e-01],\n",
              "       [9.9708474e-01],\n",
              "       [9.4991559e-01],\n",
              "       [9.9961382e-01],\n",
              "       [9.9507707e-01],\n",
              "       [2.8827735e-06],\n",
              "       [9.9929684e-01],\n",
              "       [3.3683008e-01],\n",
              "       [9.9562329e-01],\n",
              "       [9.9410880e-01],\n",
              "       [1.9380312e-05],\n",
              "       [9.9978560e-01],\n",
              "       [9.6551913e-01],\n",
              "       [9.9890953e-01],\n",
              "       [9.9149299e-01],\n",
              "       [9.9775159e-01],\n",
              "       [9.9331719e-01],\n",
              "       [2.0148093e-05],\n",
              "       [9.9979872e-01],\n",
              "       [5.2724430e-05],\n",
              "       [1.3031938e-05],\n",
              "       [9.1911232e-07],\n",
              "       [6.5222307e-06],\n",
              "       [1.4871577e-04],\n",
              "       [9.8598474e-01],\n",
              "       [9.9588448e-01],\n",
              "       [9.9859589e-01],\n",
              "       [9.9924082e-01],\n",
              "       [2.0644793e-06],\n",
              "       [9.8056316e-01],\n",
              "       [1.3913825e-01],\n",
              "       [9.9810839e-01],\n",
              "       [4.2790312e-01],\n",
              "       [7.3156302e-04],\n",
              "       [9.9995553e-01],\n",
              "       [2.1508760e-04],\n",
              "       [7.9467661e-08],\n",
              "       [7.0217915e-04],\n",
              "       [9.9573016e-01],\n",
              "       [9.8249751e-01],\n",
              "       [9.8883563e-01],\n",
              "       [9.7457588e-01],\n",
              "       [1.9882589e-06],\n",
              "       [6.7795998e-01],\n",
              "       [9.9975818e-01],\n",
              "       [9.9566334e-01],\n",
              "       [9.2751318e-01],\n",
              "       [9.9878377e-01],\n",
              "       [9.8427433e-01],\n",
              "       [9.7198039e-01],\n",
              "       [1.8114652e-01],\n",
              "       [6.2417626e-02],\n",
              "       [2.8123974e-03],\n",
              "       [9.9318302e-01],\n",
              "       [5.9484423e-10],\n",
              "       [9.8618603e-01],\n",
              "       [9.8268163e-01],\n",
              "       [4.9097394e-03],\n",
              "       [9.9984497e-01],\n",
              "       [1.7106776e-04],\n",
              "       [1.2641366e-05],\n",
              "       [9.9581552e-01],\n",
              "       [9.9990648e-01],\n",
              "       [2.0305058e-03],\n",
              "       [9.9948496e-01],\n",
              "       [1.9106239e-05],\n",
              "       [1.5095875e-08],\n",
              "       [9.9925840e-01],\n",
              "       [9.9980861e-01],\n",
              "       [9.9645299e-01],\n",
              "       [1.2718989e-05],\n",
              "       [1.4327149e-08],\n",
              "       [7.1686683e-03],\n",
              "       [9.9913442e-01],\n",
              "       [9.9654317e-01],\n",
              "       [9.7345662e-01],\n",
              "       [9.9856293e-01],\n",
              "       [9.9980676e-01],\n",
              "       [2.2896774e-04],\n",
              "       [9.9884111e-01],\n",
              "       [9.9939889e-01],\n",
              "       [2.7450845e-03],\n",
              "       [9.9258250e-01],\n",
              "       [3.5686975e-03],\n",
              "       [1.6010748e-10],\n",
              "       [9.9048364e-01],\n",
              "       [9.9954742e-01],\n",
              "       [8.8671571e-01],\n",
              "       [9.9969989e-01],\n",
              "       [9.9113035e-01],\n",
              "       [9.9690926e-01],\n",
              "       [1.0392780e-03],\n",
              "       [9.9688882e-01],\n",
              "       [8.8665569e-01],\n",
              "       [9.9982882e-01],\n",
              "       [1.1432000e-05],\n",
              "       [1.0282142e-04],\n",
              "       [8.2664537e-01],\n",
              "       [9.9912995e-01],\n",
              "       [9.9999481e-01],\n",
              "       [9.9851322e-01],\n",
              "       [7.9139441e-01],\n",
              "       [6.1131334e-01],\n",
              "       [3.4056935e-01],\n",
              "       [9.3544537e-01],\n",
              "       [1.2131049e-07],\n",
              "       [2.5765867e-06],\n",
              "       [4.7502637e-09],\n",
              "       [9.9383110e-01],\n",
              "       [9.9685597e-01],\n",
              "       [9.9419159e-01],\n",
              "       [3.4733301e-01],\n",
              "       [9.9989712e-01],\n",
              "       [8.9682595e-05],\n",
              "       [8.3929032e-01],\n",
              "       [9.8097283e-01],\n",
              "       [9.9736929e-01],\n",
              "       [2.3026918e-07],\n",
              "       [7.6671624e-01],\n",
              "       [9.8160851e-01],\n",
              "       [5.5426040e-06],\n",
              "       [8.8549918e-01],\n",
              "       [1.6394893e-02],\n",
              "       [8.4582388e-01],\n",
              "       [1.5292773e-03]], dtype=float32)"
            ]
          },
          "metadata": {},
          "execution_count": 85
        }
      ]
    },
    {
      "cell_type": "code",
      "source": [
        "y_test.shape, y_predict.shape"
      ],
      "metadata": {
        "colab": {
          "base_uri": "https://localhost:8080/"
        },
        "id": "ZO-ArPoJZAU7",
        "outputId": "2208effe-c138-4166-b8c5-660b29a1314d"
      },
      "execution_count": null,
      "outputs": [
        {
          "output_type": "execute_result",
          "data": {
            "text/plain": [
              "((171,), (171, 1))"
            ]
          },
          "metadata": {},
          "execution_count": 86
        }
      ]
    },
    {
      "cell_type": "code",
      "source": [
        "y_predict = y_predict.reshape(171)\n",
        "y_predict"
      ],
      "metadata": {
        "colab": {
          "base_uri": "https://localhost:8080/"
        },
        "id": "aKDHKCurZFSK",
        "outputId": "413b0af6-a091-4bc6-87e9-073328273e89"
      },
      "execution_count": null,
      "outputs": [
        {
          "output_type": "execute_result",
          "data": {
            "text/plain": [
              "array([9.9996126e-01, 9.0116787e-01, 8.9616126e-01, 9.9853599e-01,\n",
              "       2.6849922e-04, 3.4109957e-09, 4.5278217e-03, 9.9988300e-01,\n",
              "       9.8777652e-01, 9.9996054e-01, 1.5874824e-05, 9.9432963e-01,\n",
              "       2.6393915e-02, 3.1311575e-03, 5.2983728e-03, 9.9992162e-01,\n",
              "       7.1729912e-05, 9.9144953e-01, 9.8825467e-01, 8.2880390e-01,\n",
              "       9.9978358e-01, 9.9986464e-01, 1.6077384e-03, 9.2722321e-01,\n",
              "       3.9760862e-03, 9.6254033e-01, 9.9648124e-01, 9.9986213e-01,\n",
              "       9.9643660e-01, 1.1372729e-03, 9.9994957e-01, 8.9074992e-02,\n",
              "       9.9324429e-01, 9.9432963e-01, 9.8404664e-01, 9.9998343e-01,\n",
              "       9.1364840e-03, 9.9958175e-01, 9.9866438e-01, 9.9829048e-01,\n",
              "       9.6217990e-01, 9.9949038e-01, 9.9998176e-01, 1.2608531e-02,\n",
              "       1.4645015e-06, 9.9966443e-01, 9.9943280e-01, 9.9708474e-01,\n",
              "       9.4991559e-01, 9.9961382e-01, 9.9507707e-01, 2.8827735e-06,\n",
              "       9.9929684e-01, 3.3683008e-01, 9.9562329e-01, 9.9410880e-01,\n",
              "       1.9380312e-05, 9.9978560e-01, 9.6551913e-01, 9.9890953e-01,\n",
              "       9.9149299e-01, 9.9775159e-01, 9.9331719e-01, 2.0148093e-05,\n",
              "       9.9979872e-01, 5.2724430e-05, 1.3031938e-05, 9.1911232e-07,\n",
              "       6.5222307e-06, 1.4871577e-04, 9.8598474e-01, 9.9588448e-01,\n",
              "       9.9859589e-01, 9.9924082e-01, 2.0644793e-06, 9.8056316e-01,\n",
              "       1.3913825e-01, 9.9810839e-01, 4.2790312e-01, 7.3156302e-04,\n",
              "       9.9995553e-01, 2.1508760e-04, 7.9467661e-08, 7.0217915e-04,\n",
              "       9.9573016e-01, 9.8249751e-01, 9.8883563e-01, 9.7457588e-01,\n",
              "       1.9882589e-06, 6.7795998e-01, 9.9975818e-01, 9.9566334e-01,\n",
              "       9.2751318e-01, 9.9878377e-01, 9.8427433e-01, 9.7198039e-01,\n",
              "       1.8114652e-01, 6.2417626e-02, 2.8123974e-03, 9.9318302e-01,\n",
              "       5.9484423e-10, 9.8618603e-01, 9.8268163e-01, 4.9097394e-03,\n",
              "       9.9984497e-01, 1.7106776e-04, 1.2641366e-05, 9.9581552e-01,\n",
              "       9.9990648e-01, 2.0305058e-03, 9.9948496e-01, 1.9106239e-05,\n",
              "       1.5095875e-08, 9.9925840e-01, 9.9980861e-01, 9.9645299e-01,\n",
              "       1.2718989e-05, 1.4327149e-08, 7.1686683e-03, 9.9913442e-01,\n",
              "       9.9654317e-01, 9.7345662e-01, 9.9856293e-01, 9.9980676e-01,\n",
              "       2.2896774e-04, 9.9884111e-01, 9.9939889e-01, 2.7450845e-03,\n",
              "       9.9258250e-01, 3.5686975e-03, 1.6010748e-10, 9.9048364e-01,\n",
              "       9.9954742e-01, 8.8671571e-01, 9.9969989e-01, 9.9113035e-01,\n",
              "       9.9690926e-01, 1.0392780e-03, 9.9688882e-01, 8.8665569e-01,\n",
              "       9.9982882e-01, 1.1432000e-05, 1.0282142e-04, 8.2664537e-01,\n",
              "       9.9912995e-01, 9.9999481e-01, 9.9851322e-01, 7.9139441e-01,\n",
              "       6.1131334e-01, 3.4056935e-01, 9.3544537e-01, 1.2131049e-07,\n",
              "       2.5765867e-06, 4.7502637e-09, 9.9383110e-01, 9.9685597e-01,\n",
              "       9.9419159e-01, 3.4733301e-01, 9.9989712e-01, 8.9682595e-05,\n",
              "       8.3929032e-01, 9.8097283e-01, 9.9736929e-01, 2.3026918e-07,\n",
              "       7.6671624e-01, 9.8160851e-01, 5.5426040e-06, 8.8549918e-01,\n",
              "       1.6394893e-02, 8.4582388e-01, 1.5292773e-03], dtype=float32)"
            ]
          },
          "metadata": {},
          "execution_count": 87
        }
      ]
    },
    {
      "cell_type": "code",
      "source": [
        "y_test.shape, y_predict.shape"
      ],
      "metadata": {
        "colab": {
          "base_uri": "https://localhost:8080/"
        },
        "id": "Tzbpn8-1ZWCP",
        "outputId": "5d7100b9-f7bd-4d1a-81e8-bb335df5df34"
      },
      "execution_count": null,
      "outputs": [
        {
          "output_type": "execute_result",
          "data": {
            "text/plain": [
              "((171,), (171,))"
            ]
          },
          "metadata": {},
          "execution_count": 88
        }
      ]
    },
    {
      "cell_type": "code",
      "source": [
        "y_predict_01 = np.where(y_predict < 0.5, 0, 1)"
      ],
      "metadata": {
        "id": "zkw26hULUSAQ"
      },
      "execution_count": null,
      "outputs": []
    },
    {
      "cell_type": "code",
      "source": [
        "y_predict_01"
      ],
      "metadata": {
        "colab": {
          "base_uri": "https://localhost:8080/"
        },
        "id": "D1dwuzLIUnf4",
        "outputId": "8ac46a8e-18b9-4d89-aa63-cbc1b82e282d"
      },
      "execution_count": null,
      "outputs": [
        {
          "output_type": "execute_result",
          "data": {
            "text/plain": [
              "array([1, 1, 1, 1, 0, 0, 0, 1, 1, 1, 0, 1, 0, 0, 0, 1, 0, 1, 1, 1, 1, 1,\n",
              "       0, 1, 0, 1, 1, 1, 1, 0, 1, 0, 1, 1, 1, 1, 0, 1, 1, 1, 1, 1, 1, 0,\n",
              "       0, 1, 1, 1, 1, 1, 1, 0, 1, 0, 1, 1, 0, 1, 1, 1, 1, 1, 1, 0, 1, 0,\n",
              "       0, 0, 0, 0, 1, 1, 1, 1, 0, 1, 0, 1, 0, 0, 1, 0, 0, 0, 1, 1, 1, 1,\n",
              "       0, 1, 1, 1, 1, 1, 1, 1, 0, 0, 0, 1, 0, 1, 1, 0, 1, 0, 0, 1, 1, 0,\n",
              "       1, 0, 0, 1, 1, 1, 0, 0, 0, 1, 1, 1, 1, 1, 0, 1, 1, 0, 1, 0, 0, 1,\n",
              "       1, 1, 1, 1, 1, 0, 1, 1, 1, 0, 0, 1, 1, 1, 1, 1, 1, 0, 1, 0, 0, 0,\n",
              "       1, 1, 1, 0, 1, 0, 1, 1, 1, 0, 1, 1, 0, 1, 0, 1, 0])"
            ]
          },
          "metadata": {},
          "execution_count": 90
        }
      ]
    },
    {
      "cell_type": "code",
      "source": [
        "np.count_nonzero(np.where(y_predict_01 != y_test))"
      ],
      "metadata": {
        "colab": {
          "base_uri": "https://localhost:8080/"
        },
        "id": "SLlyqhrtYYD9",
        "outputId": "bdaf390d-ea26-4a99-8305-65bc1034393b"
      },
      "execution_count": null,
      "outputs": [
        {
          "output_type": "execute_result",
          "data": {
            "text/plain": [
              "2"
            ]
          },
          "metadata": {},
          "execution_count": 91
        }
      ]
    },
    {
      "cell_type": "code",
      "source": [
        "np.count_nonzero(np.where(y_predict_01 < y_test)), np.count_nonzero(np.where(y_predict_01 > y_test))"
      ],
      "metadata": {
        "colab": {
          "base_uri": "https://localhost:8080/"
        },
        "id": "YkcgivB5aEEM",
        "outputId": "3d458313-0394-48b5-b722-c8d7249ea19c"
      },
      "execution_count": null,
      "outputs": [
        {
          "output_type": "execute_result",
          "data": {
            "text/plain": [
              "(0, 2)"
            ]
          },
          "metadata": {},
          "execution_count": 92
        }
      ]
    },
    {
      "cell_type": "code",
      "source": [
        "print(confusion_matrix(y_test, y_predict_01))"
      ],
      "metadata": {
        "colab": {
          "base_uri": "https://localhost:8080/"
        },
        "id": "QXA5Z4YdaNEU",
        "outputId": "ef0b7283-133a-4e04-f0b7-ba79642bdb4d"
      },
      "execution_count": null,
      "outputs": [
        {
          "output_type": "stream",
          "name": "stdout",
          "text": [
            "[[ 62   2]\n",
            " [  0 107]]\n"
          ]
        }
      ]
    },
    {
      "cell_type": "code",
      "source": [],
      "metadata": {
        "id": "OdJm9fHUbiFw"
      },
      "execution_count": null,
      "outputs": []
    }
  ]
}