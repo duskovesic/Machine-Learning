{
  "nbformat": 4,
  "nbformat_minor": 0,
  "metadata": {
    "colab": {
      "provenance": [],
      "authorship_tag": "ABX9TyMbKdNGGyRuvSFxObvntjj7",
      "include_colab_link": true
    },
    "kernelspec": {
      "name": "python3",
      "display_name": "Python 3"
    },
    "language_info": {
      "name": "python"
    }
  },
  "cells": [
    {
      "cell_type": "markdown",
      "metadata": {
        "id": "view-in-github",
        "colab_type": "text"
      },
      "source": [
        "<a href=\"https://colab.research.google.com/github/duskovesic/Machine-Learning/blob/main/NN_BinarnaKlasifikacija.ipynb\" target=\"_parent\"><img src=\"https://colab.research.google.com/assets/colab-badge.svg\" alt=\"Open In Colab\"/></a>"
      ]
    },
    {
      "cell_type": "markdown",
      "source": [
        "#Uvod"
      ],
      "metadata": {
        "id": "kF0BYPetlgCU"
      }
    },
    {
      "cell_type": "markdown",
      "source": [
        "U ovoj svesci je primer rešavanja problema binarne klasifikacije.\n",
        "Koristi se baza podataka „Breast Cancer Database“.\n",
        "U bazi se nalaze podaci o tumorima dojke i koristi se za klasifikaciju prirode tumora - da li je benigni ili maligni.\n",
        "Nakon učitavanja i standardizacije podataka, kreirana je neuronska mreža sa dva skrivena sloja koja je istrenirana da na osnovu podataka iz baze određuje prirodu tumora.\n"
      ],
      "metadata": {
        "id": "N0qUDY0bi7pH"
      }
    },
    {
      "cell_type": "markdown",
      "source": [
        "# Importovanje biblioteka i setapovanje"
      ],
      "metadata": {
        "id": "OG4k4oZGNcTV"
      }
    },
    {
      "cell_type": "code",
      "execution_count": null,
      "metadata": {
        "id": "e7gX1uHOs3bz"
      },
      "outputs": [],
      "source": [
        "import numpy as np\n",
        "\n",
        "from sklearn.datasets import load_breast_cancer\n",
        "from sklearn.model_selection import train_test_split\n",
        "from sklearn.preprocessing import StandardScaler\n",
        "from sklearn.metrics import confusion_matrix\n",
        "\n",
        "from tensorflow.keras.models import Sequential\n",
        "from tensorflow.keras.layers import InputLayer, Dense\n",
        "\n",
        "from matplotlib import pyplot as plt\n",
        "\n",
        "RS = 123\n",
        "NUM_NEURONS_1 = 20\n",
        "NUM_NEURONS_2 = 10\n",
        "BATCH_SIZE = 32\n",
        "NUM_EPOCHS = 50"
      ]
    },
    {
      "cell_type": "markdown",
      "source": [
        "# Učitavanje podataka"
      ],
      "metadata": {
        "id": "frxRzzUKNjBq"
      }
    },
    {
      "cell_type": "code",
      "source": [
        "data = load_breast_cancer()\n",
        "X = data.data\n",
        "y = data.target"
      ],
      "metadata": {
        "id": "ildt6HvhuzzJ"
      },
      "execution_count": null,
      "outputs": []
    },
    {
      "cell_type": "code",
      "source": [
        "print(data.DESCR)"
      ],
      "metadata": {
        "id": "2bhXLNARxT__",
        "colab": {
          "base_uri": "https://localhost:8080/"
        },
        "outputId": "69ef273e-afae-490a-a20c-9f2aa3e54743"
      },
      "execution_count": null,
      "outputs": [
        {
          "output_type": "stream",
          "name": "stdout",
          "text": [
            ".. _breast_cancer_dataset:\n",
            "\n",
            "Breast cancer wisconsin (diagnostic) dataset\n",
            "--------------------------------------------\n",
            "\n",
            "**Data Set Characteristics:**\n",
            "\n",
            "    :Number of Instances: 569\n",
            "\n",
            "    :Number of Attributes: 30 numeric, predictive attributes and the class\n",
            "\n",
            "    :Attribute Information:\n",
            "        - radius (mean of distances from center to points on the perimeter)\n",
            "        - texture (standard deviation of gray-scale values)\n",
            "        - perimeter\n",
            "        - area\n",
            "        - smoothness (local variation in radius lengths)\n",
            "        - compactness (perimeter^2 / area - 1.0)\n",
            "        - concavity (severity of concave portions of the contour)\n",
            "        - concave points (number of concave portions of the contour)\n",
            "        - symmetry\n",
            "        - fractal dimension (\"coastline approximation\" - 1)\n",
            "\n",
            "        The mean, standard error, and \"worst\" or largest (mean of the three\n",
            "        worst/largest values) of these features were computed for each image,\n",
            "        resulting in 30 features.  For instance, field 0 is Mean Radius, field\n",
            "        10 is Radius SE, field 20 is Worst Radius.\n",
            "\n",
            "        - class:\n",
            "                - WDBC-Malignant\n",
            "                - WDBC-Benign\n",
            "\n",
            "    :Summary Statistics:\n",
            "\n",
            "    ===================================== ====== ======\n",
            "                                           Min    Max\n",
            "    ===================================== ====== ======\n",
            "    radius (mean):                        6.981  28.11\n",
            "    texture (mean):                       9.71   39.28\n",
            "    perimeter (mean):                     43.79  188.5\n",
            "    area (mean):                          143.5  2501.0\n",
            "    smoothness (mean):                    0.053  0.163\n",
            "    compactness (mean):                   0.019  0.345\n",
            "    concavity (mean):                     0.0    0.427\n",
            "    concave points (mean):                0.0    0.201\n",
            "    symmetry (mean):                      0.106  0.304\n",
            "    fractal dimension (mean):             0.05   0.097\n",
            "    radius (standard error):              0.112  2.873\n",
            "    texture (standard error):             0.36   4.885\n",
            "    perimeter (standard error):           0.757  21.98\n",
            "    area (standard error):                6.802  542.2\n",
            "    smoothness (standard error):          0.002  0.031\n",
            "    compactness (standard error):         0.002  0.135\n",
            "    concavity (standard error):           0.0    0.396\n",
            "    concave points (standard error):      0.0    0.053\n",
            "    symmetry (standard error):            0.008  0.079\n",
            "    fractal dimension (standard error):   0.001  0.03\n",
            "    radius (worst):                       7.93   36.04\n",
            "    texture (worst):                      12.02  49.54\n",
            "    perimeter (worst):                    50.41  251.2\n",
            "    area (worst):                         185.2  4254.0\n",
            "    smoothness (worst):                   0.071  0.223\n",
            "    compactness (worst):                  0.027  1.058\n",
            "    concavity (worst):                    0.0    1.252\n",
            "    concave points (worst):               0.0    0.291\n",
            "    symmetry (worst):                     0.156  0.664\n",
            "    fractal dimension (worst):            0.055  0.208\n",
            "    ===================================== ====== ======\n",
            "\n",
            "    :Missing Attribute Values: None\n",
            "\n",
            "    :Class Distribution: 212 - Malignant, 357 - Benign\n",
            "\n",
            "    :Creator:  Dr. William H. Wolberg, W. Nick Street, Olvi L. Mangasarian\n",
            "\n",
            "    :Donor: Nick Street\n",
            "\n",
            "    :Date: November, 1995\n",
            "\n",
            "This is a copy of UCI ML Breast Cancer Wisconsin (Diagnostic) datasets.\n",
            "https://goo.gl/U2Uwz2\n",
            "\n",
            "Features are computed from a digitized image of a fine needle\n",
            "aspirate (FNA) of a breast mass.  They describe\n",
            "characteristics of the cell nuclei present in the image.\n",
            "\n",
            "Separating plane described above was obtained using\n",
            "Multisurface Method-Tree (MSM-T) [K. P. Bennett, \"Decision Tree\n",
            "Construction Via Linear Programming.\" Proceedings of the 4th\n",
            "Midwest Artificial Intelligence and Cognitive Science Society,\n",
            "pp. 97-101, 1992], a classification method which uses linear\n",
            "programming to construct a decision tree.  Relevant features\n",
            "were selected using an exhaustive search in the space of 1-4\n",
            "features and 1-3 separating planes.\n",
            "\n",
            "The actual linear program used to obtain the separating plane\n",
            "in the 3-dimensional space is that described in:\n",
            "[K. P. Bennett and O. L. Mangasarian: \"Robust Linear\n",
            "Programming Discrimination of Two Linearly Inseparable Sets\",\n",
            "Optimization Methods and Software 1, 1992, 23-34].\n",
            "\n",
            "This database is also available through the UW CS ftp server:\n",
            "\n",
            "ftp ftp.cs.wisc.edu\n",
            "cd math-prog/cpo-dataset/machine-learn/WDBC/\n",
            "\n",
            ".. topic:: References\n",
            "\n",
            "   - W.N. Street, W.H. Wolberg and O.L. Mangasarian. Nuclear feature extraction \n",
            "     for breast tumor diagnosis. IS&T/SPIE 1993 International Symposium on \n",
            "     Electronic Imaging: Science and Technology, volume 1905, pages 861-870,\n",
            "     San Jose, CA, 1993.\n",
            "   - O.L. Mangasarian, W.N. Street and W.H. Wolberg. Breast cancer diagnosis and \n",
            "     prognosis via linear programming. Operations Research, 43(4), pages 570-577, \n",
            "     July-August 1995.\n",
            "   - W.H. Wolberg, W.N. Street, and O.L. Mangasarian. Machine learning techniques\n",
            "     to diagnose breast cancer from fine-needle aspirates. Cancer Letters 77 (1994) \n",
            "     163-171.\n"
          ]
        }
      ]
    },
    {
      "cell_type": "code",
      "source": [
        "type(X), type(y)"
      ],
      "metadata": {
        "colab": {
          "base_uri": "https://localhost:8080/"
        },
        "id": "hexa8HiIxI_V",
        "outputId": "4311e0ec-a75d-4360-d2ce-4eeedca443d9"
      },
      "execution_count": null,
      "outputs": [
        {
          "output_type": "execute_result",
          "data": {
            "text/plain": [
              "(numpy.ndarray, numpy.ndarray)"
            ]
          },
          "metadata": {},
          "execution_count": 272
        }
      ]
    },
    {
      "cell_type": "code",
      "source": [
        "X.shape, y.shape"
      ],
      "metadata": {
        "colab": {
          "base_uri": "https://localhost:8080/"
        },
        "id": "rxhzBYbnvmVI",
        "outputId": "bf282633-0675-48e6-8cd4-0efa0334f069"
      },
      "execution_count": null,
      "outputs": [
        {
          "output_type": "execute_result",
          "data": {
            "text/plain": [
              "((569, 30), (569,))"
            ]
          },
          "metadata": {},
          "execution_count": 273
        }
      ]
    },
    {
      "cell_type": "markdown",
      "source": [
        "# Train-test podela"
      ],
      "metadata": {
        "id": "XClpZ_7LNqQb"
      }
    },
    {
      "cell_type": "code",
      "source": [
        "X_train, X_test, y_train, y_test = train_test_split(X, y, test_size=0.3, random_state=RS, stratify=y)"
      ],
      "metadata": {
        "id": "AI3gt3MwNvKI"
      },
      "execution_count": null,
      "outputs": []
    },
    {
      "cell_type": "code",
      "source": [
        "X_train.shape, X_test.shape, y_train.shape, y_test.shape"
      ],
      "metadata": {
        "id": "nhRJZp24xDv-",
        "colab": {
          "base_uri": "https://localhost:8080/"
        },
        "outputId": "85ce65ce-a125-40ee-a293-60e4e561d099"
      },
      "execution_count": null,
      "outputs": [
        {
          "output_type": "execute_result",
          "data": {
            "text/plain": [
              "((398, 30), (171, 30), (398,), (171,))"
            ]
          },
          "metadata": {},
          "execution_count": 275
        }
      ]
    },
    {
      "cell_type": "code",
      "source": [
        "np.sum(y_train == 1)/len(y_train), np.sum(y_test == 1)/len(y_test)"
      ],
      "metadata": {
        "colab": {
          "base_uri": "https://localhost:8080/"
        },
        "id": "9CzuiP99PL7_",
        "outputId": "5e0437f6-b659-493f-f45d-ee18ad63633b"
      },
      "execution_count": null,
      "outputs": [
        {
          "output_type": "execute_result",
          "data": {
            "text/plain": [
              "(0.628140703517588, 0.6257309941520468)"
            ]
          },
          "metadata": {},
          "execution_count": 276
        }
      ]
    },
    {
      "cell_type": "markdown",
      "source": [
        "# Standardizacija"
      ],
      "metadata": {
        "id": "JJTNI6DoRxY0"
      }
    },
    {
      "cell_type": "code",
      "source": [
        "X_train, X_test"
      ],
      "metadata": {
        "colab": {
          "base_uri": "https://localhost:8080/"
        },
        "id": "DJwEVYWwSWVL",
        "outputId": "230cfca4-cbb8-480b-be34-0611b5d3b561"
      },
      "execution_count": null,
      "outputs": [
        {
          "output_type": "execute_result",
          "data": {
            "text/plain": [
              "(array([[1.299e+01, 1.423e+01, 8.408e+01, ..., 5.850e-02, 2.432e-01,\n",
              "         1.009e-01],\n",
              "        [1.242e+01, 1.504e+01, 7.861e+01, ..., 4.052e-02, 2.901e-01,\n",
              "         6.783e-02],\n",
              "        [1.496e+01, 1.910e+01, 9.703e+01, ..., 1.489e-01, 2.962e-01,\n",
              "         8.472e-02],\n",
              "        ...,\n",
              "        [1.171e+01, 1.667e+01, 7.472e+01, ..., 6.968e-02, 1.712e-01,\n",
              "         7.343e-02],\n",
              "        [1.281e+01, 1.306e+01, 8.129e+01, ..., 3.990e-02, 1.783e-01,\n",
              "         7.319e-02],\n",
              "        [1.263e+01, 2.076e+01, 8.215e+01, ..., 1.105e-01, 2.226e-01,\n",
              "         8.486e-02]]),\n",
              " array([[9.720e+00, 1.822e+01, 6.073e+01, ..., 0.000e+00, 1.909e-01,\n",
              "         6.559e-02],\n",
              "        [1.614e+01, 1.486e+01, 1.043e+02, ..., 1.129e-01, 2.778e-01,\n",
              "         7.012e-02],\n",
              "        [1.247e+01, 1.860e+01, 8.109e+01, ..., 1.015e-01, 3.014e-01,\n",
              "         8.750e-02],\n",
              "        ...,\n",
              "        [1.729e+01, 2.213e+01, 1.144e+02, ..., 1.528e-01, 3.067e-01,\n",
              "         7.484e-02],\n",
              "        [1.390e+01, 1.924e+01, 8.873e+01, ..., 8.150e-02, 2.356e-01,\n",
              "         7.603e-02],\n",
              "        [1.768e+01, 2.074e+01, 1.174e+02, ..., 1.515e-01, 2.463e-01,\n",
              "         7.738e-02]]))"
            ]
          },
          "metadata": {},
          "execution_count": 277
        }
      ]
    },
    {
      "cell_type": "code",
      "source": [
        "scaler = StandardScaler()\n",
        "scaler.fit(X_train)\n",
        "X_train = scaler.transform(X_train)\n",
        "X_test = scaler.transform(X_test)"
      ],
      "metadata": {
        "id": "4WQQZfgfRrgS"
      },
      "execution_count": null,
      "outputs": []
    },
    {
      "cell_type": "code",
      "source": [
        "X_train, X_test"
      ],
      "metadata": {
        "colab": {
          "base_uri": "https://localhost:8080/"
        },
        "id": "5IvCI4ZnSPbv",
        "outputId": "41d8ada1-d1fb-49f4-a734-dd09885b6bce"
      },
      "execution_count": null,
      "outputs": [
        {
          "output_type": "execute_result",
          "data": {
            "text/plain": [
              "(array([[-0.32429881, -1.15003767, -0.32535806, ..., -0.86662682,\n",
              "         -0.76393673,  0.89012251],\n",
              "        [-0.4848383 , -0.96201766, -0.54956587, ..., -1.14132047,\n",
              "         -0.00667757, -0.9073904 ],\n",
              "        [ 0.23054817, -0.01959635,  0.20544469, ...,  0.51448034,\n",
              "          0.09181456,  0.01066201],\n",
              "        ...,\n",
              "        [-0.68480853, -0.5836564 , -0.70901164, ..., -0.69582175,\n",
              "         -1.92646679, -0.60300357],\n",
              "        [-0.37499549, -1.42162214, -0.43971634, ..., -1.15079267,\n",
              "         -1.81182841, -0.61604872],\n",
              "        [-0.42569217,  0.36572861, -0.40446612, ..., -0.07218464,\n",
              "         -1.0965495 ,  0.01827168]]),\n",
              " array([[-1.24528848, -0.22386501, -1.28244257, ..., -1.76037426,\n",
              "         -1.60838565, -1.02914513],\n",
              "        [ 0.56289307, -1.00379989,  0.50343203, ..., -0.03551808,\n",
              "         -0.20527646, -0.78291793],\n",
              "        [-0.47075589, -0.13565809, -0.44791407, ..., -0.20968425,\n",
              "          0.17577506,  0.16176832],\n",
              "        ...,\n",
              "        [ 0.88678852,  0.68373777,  0.91741719, ...,  0.57406351,\n",
              "          0.26135019, -0.52636332],\n",
              "        [-0.06799894,  0.01290093, -0.13476093, ..., -0.51523893,\n",
              "         -0.88664824, -0.46168112],\n",
              "        [ 0.99663132,  0.36108614,  1.04038308, ...,  0.55420245,\n",
              "         -0.71388336, -0.38830215]]))"
            ]
          },
          "metadata": {},
          "execution_count": 279
        }
      ]
    },
    {
      "cell_type": "markdown",
      "source": [
        "# Kreiranje mreže"
      ],
      "metadata": {
        "id": "KUBVrJAl7Z6R"
      }
    },
    {
      "cell_type": "code",
      "source": [
        "model = Sequential([\n",
        "    InputLayer(input_shape=((X_train.shape[1],))),\n",
        "    Dense(units=NUM_NEURONS_1, activation=\"relu\"),\n",
        "    Dense(units=NUM_NEURONS_2, activation=\"relu\"),\n",
        "    Dense(units=1, activation=\"sigmoid\")\n",
        "])"
      ],
      "metadata": {
        "id": "kocsAHqB7cWy"
      },
      "execution_count": null,
      "outputs": []
    },
    {
      "cell_type": "code",
      "source": [
        "model.summary()"
      ],
      "metadata": {
        "colab": {
          "base_uri": "https://localhost:8080/"
        },
        "id": "oM_1_-2wG84o",
        "outputId": "987d726f-114e-470f-dc21-b910c7dd4f56"
      },
      "execution_count": null,
      "outputs": [
        {
          "output_type": "stream",
          "name": "stdout",
          "text": [
            "Model: \"sequential_11\"\n",
            "_________________________________________________________________\n",
            " Layer (type)                Output Shape              Param #   \n",
            "=================================================================\n",
            " dense_34 (Dense)            (None, 20)                620       \n",
            "                                                                 \n",
            " dense_35 (Dense)            (None, 10)                210       \n",
            "                                                                 \n",
            " dense_36 (Dense)            (None, 1)                 11        \n",
            "                                                                 \n",
            "=================================================================\n",
            "Total params: 841 (3.29 KB)\n",
            "Trainable params: 841 (3.29 KB)\n",
            "Non-trainable params: 0 (0.00 Byte)\n",
            "_________________________________________________________________\n"
          ]
        }
      ]
    },
    {
      "cell_type": "code",
      "source": [
        "model.compile(optimizer=\"adam\", metrics=\"accuracy\", loss=\"binary_crossentropy\")"
      ],
      "metadata": {
        "id": "zB3ewXlUHHTe"
      },
      "execution_count": null,
      "outputs": []
    },
    {
      "cell_type": "markdown",
      "source": [
        "#Treniranje mreže"
      ],
      "metadata": {
        "id": "pwYNsCS0Tll0"
      }
    },
    {
      "cell_type": "code",
      "source": [
        "history = model.fit(X_train, y_train, batch_size=BATCH_SIZE, epochs=NUM_EPOCHS, verbose=1)"
      ],
      "metadata": {
        "colab": {
          "base_uri": "https://localhost:8080/"
        },
        "id": "3ocMfJCyHpAT",
        "outputId": "52f22f5c-6009-4a7b-d3e5-eff234aac8b7"
      },
      "execution_count": null,
      "outputs": [
        {
          "output_type": "stream",
          "name": "stdout",
          "text": [
            "Epoch 1/50\n",
            "13/13 [==============================] - 1s 2ms/step - loss: 0.7471 - accuracy: 0.4196\n",
            "Epoch 2/50\n",
            "13/13 [==============================] - 0s 2ms/step - loss: 0.5875 - accuracy: 0.6558\n",
            "Epoch 3/50\n",
            "13/13 [==============================] - 0s 2ms/step - loss: 0.4795 - accuracy: 0.8442\n",
            "Epoch 4/50\n",
            "13/13 [==============================] - 0s 2ms/step - loss: 0.4029 - accuracy: 0.9070\n",
            "Epoch 5/50\n",
            "13/13 [==============================] - 0s 2ms/step - loss: 0.3422 - accuracy: 0.9296\n",
            "Epoch 6/50\n",
            "13/13 [==============================] - 0s 2ms/step - loss: 0.2925 - accuracy: 0.9347\n",
            "Epoch 7/50\n",
            "13/13 [==============================] - 0s 2ms/step - loss: 0.2491 - accuracy: 0.9447\n",
            "Epoch 8/50\n",
            "13/13 [==============================] - 0s 2ms/step - loss: 0.2145 - accuracy: 0.9472\n",
            "Epoch 9/50\n",
            "13/13 [==============================] - 0s 2ms/step - loss: 0.1869 - accuracy: 0.9548\n",
            "Epoch 10/50\n",
            "13/13 [==============================] - 0s 3ms/step - loss: 0.1650 - accuracy: 0.9573\n",
            "Epoch 11/50\n",
            "13/13 [==============================] - 0s 2ms/step - loss: 0.1478 - accuracy: 0.9623\n",
            "Epoch 12/50\n",
            "13/13 [==============================] - 0s 2ms/step - loss: 0.1343 - accuracy: 0.9623\n",
            "Epoch 13/50\n",
            "13/13 [==============================] - 0s 2ms/step - loss: 0.1240 - accuracy: 0.9648\n",
            "Epoch 14/50\n",
            "13/13 [==============================] - 0s 2ms/step - loss: 0.1156 - accuracy: 0.9673\n",
            "Epoch 15/50\n",
            "13/13 [==============================] - 0s 2ms/step - loss: 0.1083 - accuracy: 0.9698\n",
            "Epoch 16/50\n",
            "13/13 [==============================] - 0s 3ms/step - loss: 0.1025 - accuracy: 0.9749\n",
            "Epoch 17/50\n",
            "13/13 [==============================] - 0s 2ms/step - loss: 0.0974 - accuracy: 0.9774\n",
            "Epoch 18/50\n",
            "13/13 [==============================] - 0s 2ms/step - loss: 0.0925 - accuracy: 0.9774\n",
            "Epoch 19/50\n",
            "13/13 [==============================] - 0s 2ms/step - loss: 0.0881 - accuracy: 0.9774\n",
            "Epoch 20/50\n",
            "13/13 [==============================] - 0s 2ms/step - loss: 0.0843 - accuracy: 0.9774\n",
            "Epoch 21/50\n",
            "13/13 [==============================] - 0s 2ms/step - loss: 0.0807 - accuracy: 0.9799\n",
            "Epoch 22/50\n",
            "13/13 [==============================] - 0s 2ms/step - loss: 0.0775 - accuracy: 0.9824\n",
            "Epoch 23/50\n",
            "13/13 [==============================] - 0s 2ms/step - loss: 0.0746 - accuracy: 0.9824\n",
            "Epoch 24/50\n",
            "13/13 [==============================] - 0s 2ms/step - loss: 0.0717 - accuracy: 0.9824\n",
            "Epoch 25/50\n",
            "13/13 [==============================] - 0s 2ms/step - loss: 0.0691 - accuracy: 0.9824\n",
            "Epoch 26/50\n",
            "13/13 [==============================] - 0s 2ms/step - loss: 0.0667 - accuracy: 0.9824\n",
            "Epoch 27/50\n",
            "13/13 [==============================] - 0s 2ms/step - loss: 0.0652 - accuracy: 0.9824\n",
            "Epoch 28/50\n",
            "13/13 [==============================] - 0s 2ms/step - loss: 0.0627 - accuracy: 0.9849\n",
            "Epoch 29/50\n",
            "13/13 [==============================] - 0s 2ms/step - loss: 0.0609 - accuracy: 0.9849\n",
            "Epoch 30/50\n",
            "13/13 [==============================] - 0s 2ms/step - loss: 0.0592 - accuracy: 0.9874\n",
            "Epoch 31/50\n",
            "13/13 [==============================] - 0s 2ms/step - loss: 0.0575 - accuracy: 0.9899\n",
            "Epoch 32/50\n",
            "13/13 [==============================] - 0s 2ms/step - loss: 0.0559 - accuracy: 0.9899\n",
            "Epoch 33/50\n",
            "13/13 [==============================] - 0s 2ms/step - loss: 0.0547 - accuracy: 0.9899\n",
            "Epoch 34/50\n",
            "13/13 [==============================] - 0s 2ms/step - loss: 0.0531 - accuracy: 0.9899\n",
            "Epoch 35/50\n",
            "13/13 [==============================] - 0s 2ms/step - loss: 0.0517 - accuracy: 0.9899\n",
            "Epoch 36/50\n",
            "13/13 [==============================] - 0s 2ms/step - loss: 0.0504 - accuracy: 0.9899\n",
            "Epoch 37/50\n",
            "13/13 [==============================] - 0s 2ms/step - loss: 0.0493 - accuracy: 0.9899\n",
            "Epoch 38/50\n",
            "13/13 [==============================] - 0s 3ms/step - loss: 0.0480 - accuracy: 0.9899\n",
            "Epoch 39/50\n",
            "13/13 [==============================] - 0s 2ms/step - loss: 0.0471 - accuracy: 0.9899\n",
            "Epoch 40/50\n",
            "13/13 [==============================] - 0s 2ms/step - loss: 0.0458 - accuracy: 0.9899\n",
            "Epoch 41/50\n",
            "13/13 [==============================] - 0s 2ms/step - loss: 0.0449 - accuracy: 0.9899\n",
            "Epoch 42/50\n",
            "13/13 [==============================] - 0s 2ms/step - loss: 0.0437 - accuracy: 0.9899\n",
            "Epoch 43/50\n",
            "13/13 [==============================] - 0s 2ms/step - loss: 0.0427 - accuracy: 0.9899\n",
            "Epoch 44/50\n",
            "13/13 [==============================] - 0s 2ms/step - loss: 0.0417 - accuracy: 0.9899\n",
            "Epoch 45/50\n",
            "13/13 [==============================] - 0s 2ms/step - loss: 0.0408 - accuracy: 0.9899\n",
            "Epoch 46/50\n",
            "13/13 [==============================] - 0s 2ms/step - loss: 0.0398 - accuracy: 0.9899\n",
            "Epoch 47/50\n",
            "13/13 [==============================] - 0s 2ms/step - loss: 0.0389 - accuracy: 0.9899\n",
            "Epoch 48/50\n",
            "13/13 [==============================] - 0s 2ms/step - loss: 0.0377 - accuracy: 0.9899\n",
            "Epoch 49/50\n",
            "13/13 [==============================] - 0s 2ms/step - loss: 0.0368 - accuracy: 0.9899\n",
            "Epoch 50/50\n",
            "13/13 [==============================] - 0s 3ms/step - loss: 0.0359 - accuracy: 0.9899\n"
          ]
        }
      ]
    },
    {
      "cell_type": "code",
      "source": [
        "fig, ax = plt.subplots(1, 2, figsize=(8, 4))\n",
        "\n",
        "ax[0].plot(history.epoch, history.history[\"loss\"], label=\"loss\", color=\"red\")\n",
        "ax[0].set_xlabel(\"epochs\")\n",
        "ax[0].set_ylabel(\"loss\")\n",
        "ax[0].legend()\n",
        "\n",
        "ax[1].plot(history.epoch, history.history[\"accuracy\"], label=\"accuracy\")\n",
        "ax[1].set_xlabel(\"epochs\")\n",
        "ax[1].set_ylabel(\"accuracy\")\n",
        "ax[1].legend()\n",
        "\n",
        "plt.show()"
      ],
      "metadata": {
        "colab": {
          "base_uri": "https://localhost:8080/",
          "height": 388
        },
        "id": "zVU1HHdmKOuz",
        "outputId": "e4aca292-ef62-4310-eef4-351ada39d524"
      },
      "execution_count": null,
      "outputs": [
        {
          "output_type": "display_data",
          "data": {
            "text/plain": [
              "<Figure size 800x400 with 2 Axes>"
            ],
            "image/png": "[encoded data removed]"
          },
          "metadata": {}
        }
      ]
    },
    {
      "cell_type": "markdown",
      "source": [
        "#Ocenjivanje mreže"
      ],
      "metadata": {
        "id": "L-hHyJtDTqAk"
      }
    },
    {
      "cell_type": "code",
      "source": [
        "scores = model.evaluate(X_test, y_test, batch_size=BATCH_SIZE)"
      ],
      "metadata": {
        "colab": {
          "base_uri": "https://localhost:8080/"
        },
        "id": "W9IIKr1wLHl2",
        "outputId": "c52976b6-115d-4613-a633-7e7f8b38fa44"
      },
      "execution_count": null,
      "outputs": [
        {
          "output_type": "stream",
          "name": "stdout",
          "text": [
            "6/6 [==============================] - 0s 2ms/step - loss: 0.0632 - accuracy: 0.9766\n"
          ]
        }
      ]
    },
    {
      "cell_type": "code",
      "source": [
        "model.metrics_names"
      ],
      "metadata": {
        "colab": {
          "base_uri": "https://localhost:8080/"
        },
        "id": "f8FCLafrSjqQ",
        "outputId": "188da9fe-4e21-4883-9ca5-d141f3a43280"
      },
      "execution_count": null,
      "outputs": [
        {
          "output_type": "execute_result",
          "data": {
            "text/plain": [
              "['loss', 'accuracy']"
            ]
          },
          "metadata": {},
          "execution_count": 286
        }
      ]
    },
    {
      "cell_type": "code",
      "source": [
        "scores"
      ],
      "metadata": {
        "colab": {
          "base_uri": "https://localhost:8080/"
        },
        "id": "RXi5VnvtSQAR",
        "outputId": "38852004-6c81-4829-886f-854bd067d96e"
      },
      "execution_count": null,
      "outputs": [
        {
          "output_type": "execute_result",
          "data": {
            "text/plain": [
              "[0.06323706358671188, 0.9766082167625427]"
            ]
          },
          "metadata": {},
          "execution_count": 287
        }
      ]
    },
    {
      "cell_type": "code",
      "source": [
        "y_predict = model.predict(X_test)"
      ],
      "metadata": {
        "colab": {
          "base_uri": "https://localhost:8080/"
        },
        "id": "ehpabqXSSno-",
        "outputId": "edc63009-bf65-417e-a338-b69e01fdecd4"
      },
      "execution_count": null,
      "outputs": [
        {
          "output_type": "stream",
          "name": "stdout",
          "text": [
            "6/6 [==============================] - 0s 2ms/step\n"
          ]
        }
      ]
    },
    {
      "cell_type": "code",
      "source": [
        "y_predict"
      ],
      "metadata": {
        "colab": {
          "base_uri": "https://localhost:8080/"
        },
        "id": "otgTkCqdUPmX",
        "outputId": "16c4d8de-540e-4c3f-9176-b16d48ebb8b1"
      },
      "execution_count": null,
      "outputs": [
        {
          "output_type": "execute_result",
          "data": {
            "text/plain": [
              "array([[9.9999571e-01],\n",
              "       [9.2678380e-01],\n",
              "       [9.2778492e-01],\n",
              "       [9.9433869e-01],\n",
              "       [1.0558024e-06],\n",
              "       [1.7465467e-14],\n",
              "       [1.6884084e-04],\n",
              "       [9.9997395e-01],\n",
              "       [9.8815107e-01],\n",
              "       [9.9997640e-01],\n",
              "       [6.4252703e-08],\n",
              "       [9.9804306e-01],\n",
              "       [5.3552538e-03],\n",
              "       [1.8936952e-04],\n",
              "       [1.0939891e-02],\n",
              "       [9.9990726e-01],\n",
              "       [2.2300624e-07],\n",
              "       [9.9833864e-01],\n",
              "       [9.8932958e-01],\n",
              "       [9.5302230e-01],\n",
              "       [9.9992096e-01],\n",
              "       [9.9918842e-01],\n",
              "       [5.6326862e-05],\n",
              "       [9.5660585e-01],\n",
              "       [6.5901710e-05],\n",
              "       [9.8716831e-01],\n",
              "       [9.9664068e-01],\n",
              "       [9.9993610e-01],\n",
              "       [9.9067032e-01],\n",
              "       [3.8311546e-06],\n",
              "       [9.9999869e-01],\n",
              "       [2.2860529e-02],\n",
              "       [9.9063283e-01],\n",
              "       [9.9698246e-01],\n",
              "       [9.9313933e-01],\n",
              "       [9.9997902e-01],\n",
              "       [4.4288514e-03],\n",
              "       [9.9992412e-01],\n",
              "       [9.9470913e-01],\n",
              "       [9.8901647e-01],\n",
              "       [9.8452574e-01],\n",
              "       [9.9885917e-01],\n",
              "       [9.9998850e-01],\n",
              "       [9.5900856e-03],\n",
              "       [3.5693973e-10],\n",
              "       [9.9994451e-01],\n",
              "       [9.9977767e-01],\n",
              "       [9.9798894e-01],\n",
              "       [9.7071236e-01],\n",
              "       [9.9858409e-01],\n",
              "       [9.9724215e-01],\n",
              "       [4.0403510e-08],\n",
              "       [9.9994600e-01],\n",
              "       [6.3523471e-01],\n",
              "       [9.9829751e-01],\n",
              "       [9.9788052e-01],\n",
              "       [3.9732829e-08],\n",
              "       [9.9979639e-01],\n",
              "       [9.9212813e-01],\n",
              "       [9.9962980e-01],\n",
              "       [9.9781299e-01],\n",
              "       [9.9913073e-01],\n",
              "       [9.9518365e-01],\n",
              "       [2.7300766e-06],\n",
              "       [9.9978960e-01],\n",
              "       [8.9265592e-07],\n",
              "       [4.4794615e-07],\n",
              "       [1.7547430e-08],\n",
              "       [7.6370827e-07],\n",
              "       [1.4921403e-06],\n",
              "       [9.9541724e-01],\n",
              "       [9.9931967e-01],\n",
              "       [9.9897557e-01],\n",
              "       [9.9957043e-01],\n",
              "       [1.3652163e-09],\n",
              "       [9.8478121e-01],\n",
              "       [1.6069058e-02],\n",
              "       [9.9789506e-01],\n",
              "       [5.0855231e-01],\n",
              "       [4.0943283e-05],\n",
              "       [9.9996740e-01],\n",
              "       [1.0907130e-04],\n",
              "       [2.8980426e-11],\n",
              "       [5.8350772e-05],\n",
              "       [9.9377340e-01],\n",
              "       [9.7399491e-01],\n",
              "       [9.9000502e-01],\n",
              "       [9.7384012e-01],\n",
              "       [3.0983451e-09],\n",
              "       [6.3381779e-01],\n",
              "       [9.9948812e-01],\n",
              "       [9.9733979e-01],\n",
              "       [9.8044568e-01],\n",
              "       [9.9984825e-01],\n",
              "       [9.9256915e-01],\n",
              "       [9.7728395e-01],\n",
              "       [2.4824739e-02],\n",
              "       [1.0327856e-02],\n",
              "       [1.2143149e-04],\n",
              "       [9.9813080e-01],\n",
              "       [5.2202729e-15],\n",
              "       [9.9368197e-01],\n",
              "       [9.8066145e-01],\n",
              "       [2.3303319e-04],\n",
              "       [9.9994409e-01],\n",
              "       [1.2889016e-06],\n",
              "       [1.6962464e-07],\n",
              "       [9.9002534e-01],\n",
              "       [9.9999386e-01],\n",
              "       [1.9253367e-04],\n",
              "       [9.9978530e-01],\n",
              "       [6.4882130e-08],\n",
              "       [1.2999562e-12],\n",
              "       [9.9839598e-01],\n",
              "       [9.9966931e-01],\n",
              "       [9.9766576e-01],\n",
              "       [1.3465485e-07],\n",
              "       [1.4312964e-13],\n",
              "       [1.3474405e-02],\n",
              "       [9.9934334e-01],\n",
              "       [9.8692298e-01],\n",
              "       [9.9483025e-01],\n",
              "       [9.9757034e-01],\n",
              "       [9.9968404e-01],\n",
              "       [1.8893321e-05],\n",
              "       [9.9947703e-01],\n",
              "       [9.9957770e-01],\n",
              "       [2.7370339e-04],\n",
              "       [9.9880940e-01],\n",
              "       [6.7558220e-05],\n",
              "       [3.3277238e-17],\n",
              "       [9.9830580e-01],\n",
              "       [9.9970978e-01],\n",
              "       [9.5847988e-01],\n",
              "       [9.9997401e-01],\n",
              "       [9.4869149e-01],\n",
              "       [9.9702799e-01],\n",
              "       [3.1327759e-04],\n",
              "       [9.9495232e-01],\n",
              "       [9.6894395e-01],\n",
              "       [9.9995100e-01],\n",
              "       [7.5881497e-09],\n",
              "       [4.3472969e-06],\n",
              "       [8.7043744e-01],\n",
              "       [9.9995047e-01],\n",
              "       [9.9999422e-01],\n",
              "       [9.9963713e-01],\n",
              "       [8.6420965e-01],\n",
              "       [6.9497311e-01],\n",
              "       [3.1675971e-01],\n",
              "       [9.8660111e-01],\n",
              "       [1.9991165e-11],\n",
              "       [3.3895804e-09],\n",
              "       [3.5429591e-13],\n",
              "       [9.8675430e-01],\n",
              "       [9.9790245e-01],\n",
              "       [9.9529707e-01],\n",
              "       [3.7527984e-01],\n",
              "       [9.9985993e-01],\n",
              "       [1.0176556e-06],\n",
              "       [6.6575593e-01],\n",
              "       [9.9163389e-01],\n",
              "       [9.9752063e-01],\n",
              "       [4.4646856e-11],\n",
              "       [8.3560336e-01],\n",
              "       [9.8612738e-01],\n",
              "       [7.2145800e-09],\n",
              "       [9.3810511e-01],\n",
              "       [1.1191389e-03],\n",
              "       [9.3009633e-01],\n",
              "       [1.5127474e-05]], dtype=float32)"
            ]
          },
          "metadata": {},
          "execution_count": 289
        }
      ]
    },
    {
      "cell_type": "code",
      "source": [
        "y_test.shape, y_predict.shape"
      ],
      "metadata": {
        "colab": {
          "base_uri": "https://localhost:8080/"
        },
        "id": "ZO-ArPoJZAU7",
        "outputId": "95180f38-e405-463f-e08c-ac74f80e893c"
      },
      "execution_count": null,
      "outputs": [
        {
          "output_type": "execute_result",
          "data": {
            "text/plain": [
              "((171,), (171, 1))"
            ]
          },
          "metadata": {},
          "execution_count": 290
        }
      ]
    },
    {
      "cell_type": "code",
      "source": [
        "y_predict = y_predict.reshape(171)\n",
        "y_predict"
      ],
      "metadata": {
        "colab": {
          "base_uri": "https://localhost:8080/"
        },
        "id": "aKDHKCurZFSK",
        "outputId": "ba96057e-12a1-4e72-b318-6a7a852acedf"
      },
      "execution_count": null,
      "outputs": [
        {
          "output_type": "execute_result",
          "data": {
            "text/plain": [
              "array([9.9999571e-01, 9.2678380e-01, 9.2778492e-01, 9.9433869e-01,\n",
              "       1.0558024e-06, 1.7465467e-14, 1.6884084e-04, 9.9997395e-01,\n",
              "       9.8815107e-01, 9.9997640e-01, 6.4252703e-08, 9.9804306e-01,\n",
              "       5.3552538e-03, 1.8936952e-04, 1.0939891e-02, 9.9990726e-01,\n",
              "       2.2300624e-07, 9.9833864e-01, 9.8932958e-01, 9.5302230e-01,\n",
              "       9.9992096e-01, 9.9918842e-01, 5.6326862e-05, 9.5660585e-01,\n",
              "       6.5901710e-05, 9.8716831e-01, 9.9664068e-01, 9.9993610e-01,\n",
              "       9.9067032e-01, 3.8311546e-06, 9.9999869e-01, 2.2860529e-02,\n",
              "       9.9063283e-01, 9.9698246e-01, 9.9313933e-01, 9.9997902e-01,\n",
              "       4.4288514e-03, 9.9992412e-01, 9.9470913e-01, 9.8901647e-01,\n",
              "       9.8452574e-01, 9.9885917e-01, 9.9998850e-01, 9.5900856e-03,\n",
              "       3.5693973e-10, 9.9994451e-01, 9.9977767e-01, 9.9798894e-01,\n",
              "       9.7071236e-01, 9.9858409e-01, 9.9724215e-01, 4.0403510e-08,\n",
              "       9.9994600e-01, 6.3523471e-01, 9.9829751e-01, 9.9788052e-01,\n",
              "       3.9732829e-08, 9.9979639e-01, 9.9212813e-01, 9.9962980e-01,\n",
              "       9.9781299e-01, 9.9913073e-01, 9.9518365e-01, 2.7300766e-06,\n",
              "       9.9978960e-01, 8.9265592e-07, 4.4794615e-07, 1.7547430e-08,\n",
              "       7.6370827e-07, 1.4921403e-06, 9.9541724e-01, 9.9931967e-01,\n",
              "       9.9897557e-01, 9.9957043e-01, 1.3652163e-09, 9.8478121e-01,\n",
              "       1.6069058e-02, 9.9789506e-01, 5.0855231e-01, 4.0943283e-05,\n",
              "       9.9996740e-01, 1.0907130e-04, 2.8980426e-11, 5.8350772e-05,\n",
              "       9.9377340e-01, 9.7399491e-01, 9.9000502e-01, 9.7384012e-01,\n",
              "       3.0983451e-09, 6.3381779e-01, 9.9948812e-01, 9.9733979e-01,\n",
              "       9.8044568e-01, 9.9984825e-01, 9.9256915e-01, 9.7728395e-01,\n",
              "       2.4824739e-02, 1.0327856e-02, 1.2143149e-04, 9.9813080e-01,\n",
              "       5.2202729e-15, 9.9368197e-01, 9.8066145e-01, 2.3303319e-04,\n",
              "       9.9994409e-01, 1.2889016e-06, 1.6962464e-07, 9.9002534e-01,\n",
              "       9.9999386e-01, 1.9253367e-04, 9.9978530e-01, 6.4882130e-08,\n",
              "       1.2999562e-12, 9.9839598e-01, 9.9966931e-01, 9.9766576e-01,\n",
              "       1.3465485e-07, 1.4312964e-13, 1.3474405e-02, 9.9934334e-01,\n",
              "       9.8692298e-01, 9.9483025e-01, 9.9757034e-01, 9.9968404e-01,\n",
              "       1.8893321e-05, 9.9947703e-01, 9.9957770e-01, 2.7370339e-04,\n",
              "       9.9880940e-01, 6.7558220e-05, 3.3277238e-17, 9.9830580e-01,\n",
              "       9.9970978e-01, 9.5847988e-01, 9.9997401e-01, 9.4869149e-01,\n",
              "       9.9702799e-01, 3.1327759e-04, 9.9495232e-01, 9.6894395e-01,\n",
              "       9.9995100e-01, 7.5881497e-09, 4.3472969e-06, 8.7043744e-01,\n",
              "       9.9995047e-01, 9.9999422e-01, 9.9963713e-01, 8.6420965e-01,\n",
              "       6.9497311e-01, 3.1675971e-01, 9.8660111e-01, 1.9991165e-11,\n",
              "       3.3895804e-09, 3.5429591e-13, 9.8675430e-01, 9.9790245e-01,\n",
              "       9.9529707e-01, 3.7527984e-01, 9.9985993e-01, 1.0176556e-06,\n",
              "       6.6575593e-01, 9.9163389e-01, 9.9752063e-01, 4.4646856e-11,\n",
              "       8.3560336e-01, 9.8612738e-01, 7.2145800e-09, 9.3810511e-01,\n",
              "       1.1191389e-03, 9.3009633e-01, 1.5127474e-05], dtype=float32)"
            ]
          },
          "metadata": {},
          "execution_count": 291
        }
      ]
    },
    {
      "cell_type": "code",
      "source": [
        "y_test.shape, y_predict.shape"
      ],
      "metadata": {
        "colab": {
          "base_uri": "https://localhost:8080/"
        },
        "id": "Tzbpn8-1ZWCP",
        "outputId": "61e39f1a-a0e7-4af6-d3d7-850deb96dce5"
      },
      "execution_count": null,
      "outputs": [
        {
          "output_type": "execute_result",
          "data": {
            "text/plain": [
              "((171,), (171,))"
            ]
          },
          "metadata": {},
          "execution_count": 292
        }
      ]
    },
    {
      "cell_type": "code",
      "source": [
        "y_predict_01 = np.where(y_predict < 0.5, 0, 1)"
      ],
      "metadata": {
        "id": "zkw26hULUSAQ"
      },
      "execution_count": null,
      "outputs": []
    },
    {
      "cell_type": "code",
      "source": [
        "y_predict_01"
      ],
      "metadata": {
        "colab": {
          "base_uri": "https://localhost:8080/"
        },
        "id": "D1dwuzLIUnf4",
        "outputId": "921d3e0a-fc3b-4a1a-94cd-4569b4388d85"
      },
      "execution_count": null,
      "outputs": [
        {
          "output_type": "execute_result",
          "data": {
            "text/plain": [
              "array([1, 1, 1, 1, 0, 0, 0, 1, 1, 1, 0, 1, 0, 0, 0, 1, 0, 1, 1, 1, 1, 1,\n",
              "       0, 1, 0, 1, 1, 1, 1, 0, 1, 0, 1, 1, 1, 1, 0, 1, 1, 1, 1, 1, 1, 0,\n",
              "       0, 1, 1, 1, 1, 1, 1, 0, 1, 1, 1, 1, 0, 1, 1, 1, 1, 1, 1, 0, 1, 0,\n",
              "       0, 0, 0, 0, 1, 1, 1, 1, 0, 1, 0, 1, 1, 0, 1, 0, 0, 0, 1, 1, 1, 1,\n",
              "       0, 1, 1, 1, 1, 1, 1, 1, 0, 0, 0, 1, 0, 1, 1, 0, 1, 0, 0, 1, 1, 0,\n",
              "       1, 0, 0, 1, 1, 1, 0, 0, 0, 1, 1, 1, 1, 1, 0, 1, 1, 0, 1, 0, 0, 1,\n",
              "       1, 1, 1, 1, 1, 0, 1, 1, 1, 0, 0, 1, 1, 1, 1, 1, 1, 0, 1, 0, 0, 0,\n",
              "       1, 1, 1, 0, 1, 0, 1, 1, 1, 0, 1, 1, 0, 1, 0, 1, 0])"
            ]
          },
          "metadata": {},
          "execution_count": 294
        }
      ]
    },
    {
      "cell_type": "code",
      "source": [
        "np.count_nonzero(np.where(y_predict_01 != y_test))"
      ],
      "metadata": {
        "colab": {
          "base_uri": "https://localhost:8080/"
        },
        "id": "SLlyqhrtYYD9",
        "outputId": "89438372-c0fb-42b1-9ebb-acfe520dccd1"
      },
      "execution_count": null,
      "outputs": [
        {
          "output_type": "execute_result",
          "data": {
            "text/plain": [
              "4"
            ]
          },
          "metadata": {},
          "execution_count": 295
        }
      ]
    },
    {
      "cell_type": "code",
      "source": [
        "np.count_nonzero(np.where(y_predict_01 < y_test)), np.count_nonzero(np.where(y_predict_01 > y_test))"
      ],
      "metadata": {
        "colab": {
          "base_uri": "https://localhost:8080/"
        },
        "id": "YkcgivB5aEEM",
        "outputId": "e0bca775-d327-4c0a-e039-c84ed56ae630"
      },
      "execution_count": null,
      "outputs": [
        {
          "output_type": "execute_result",
          "data": {
            "text/plain": [
              "(0, 4)"
            ]
          },
          "metadata": {},
          "execution_count": 296
        }
      ]
    },
    {
      "cell_type": "code",
      "source": [
        "print(confusion_matrix(y_test, y_predict_01))"
      ],
      "metadata": {
        "colab": {
          "base_uri": "https://localhost:8080/"
        },
        "id": "QXA5Z4YdaNEU",
        "outputId": "db6f00c1-7b0d-4dfa-980b-cab750aec893"
      },
      "execution_count": null,
      "outputs": [
        {
          "output_type": "stream",
          "name": "stdout",
          "text": [
            "[[ 60   4]\n",
            " [  0 107]]\n"
          ]
        }
      ]
    },
    {
      "cell_type": "code",
      "source": [],
      "metadata": {
        "id": "OdJm9fHUbiFw"
      },
      "execution_count": null,
      "outputs": []
    }
  ]
}