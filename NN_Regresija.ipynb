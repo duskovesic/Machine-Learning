{
  "nbformat": 4,
  "nbformat_minor": 0,
  "metadata": {
    "colab": {
      "provenance": [],
      "authorship_tag": "ABX9TyPu/0kJA/YcRWMlI4lBIvX4",
      "include_colab_link": true
    },
    "kernelspec": {
      "name": "python3",
      "display_name": "Python 3"
    },
    "language_info": {
      "name": "python"
    }
  },
  "cells": [
    {
      "cell_type": "markdown",
      "metadata": {
        "id": "view-in-github",
        "colab_type": "text"
      },
      "source": [
        "<a href=\"https://colab.research.google.com/github/duskovesic/Machine-Learning/blob/main/NN_Regresija.ipynb\" target=\"_parent\"><img src=\"https://colab.research.google.com/assets/colab-badge.svg\" alt=\"Open In Colab\"/></a>"
      ]
    },
    {
      "cell_type": "markdown",
      "source": [
        "# Importovanje biblioteka i setapovanje"
      ],
      "metadata": {
        "id": "OG4k4oZGNcTV"
      }
    },
    {
      "cell_type": "code",
      "execution_count": 2,
      "metadata": {
        "id": "e7gX1uHOs3bz"
      },
      "outputs": [],
      "source": [
        "import numpy as np\n",
        "\n",
        "from sklearn.preprocessing import StandardScaler\n",
        "from sklearn.metrics import r2_score\n",
        "\n",
        "from tensorflow.keras.datasets import boston_housing\n",
        "from tensorflow.keras.models import Sequential\n",
        "from tensorflow.keras.layers import InputLayer, Dense\n",
        "from tensorflow.keras.optimizers import Adam\n",
        "from tensorflow.keras.losses import MeanSquaredError, MeanAbsoluteError\n",
        "\n",
        "from matplotlib import pyplot as plt\n",
        "\n",
        "RS = 123\n",
        "NUM_NEURONS_1 = 100\n",
        "NUM_NEURONS_2 = 50\n",
        "BATCH_SIZE = 64\n",
        "NUM_EPOCHS = 100"
      ]
    },
    {
      "cell_type": "markdown",
      "source": [
        "# Ucitavanje podataka"
      ],
      "metadata": {
        "id": "frxRzzUKNjBq"
      }
    },
    {
      "cell_type": "code",
      "source": [
        "(X_train, y_train), (X_test, y_test) = boston_housing.load_data(test_split=0.33, seed=RS)\n",
        "X_train.shape, X_test.shape, y_train.shape, y_test.shape"
      ],
      "metadata": {
        "id": "ildt6HvhuzzJ",
        "colab": {
          "base_uri": "https://localhost:8080/"
        },
        "outputId": "2472995a-3496-4644-d1d0-8ab0a033997f"
      },
      "execution_count": 3,
      "outputs": [
        {
          "output_type": "stream",
          "name": "stdout",
          "text": [
            "Downloading data from https://storage.googleapis.com/tensorflow/tf-keras-datasets/boston_housing.npz\n",
            "57026/57026 [==============================] - 0s 1us/step\n"
          ]
        },
        {
          "output_type": "execute_result",
          "data": {
            "text/plain": [
              "((339, 13), (167, 13), (339,), (167,))"
            ]
          },
          "metadata": {},
          "execution_count": 3
        }
      ]
    },
    {
      "cell_type": "markdown",
      "source": [
        "# Standardizacija"
      ],
      "metadata": {
        "id": "JJTNI6DoRxY0"
      }
    },
    {
      "cell_type": "code",
      "source": [
        "X_train, X_test"
      ],
      "metadata": {
        "colab": {
          "base_uri": "https://localhost:8080/"
        },
        "id": "DJwEVYWwSWVL",
        "outputId": "94696d5b-f323-4414-cc2d-b3500404f014"
      },
      "execution_count": 4,
      "outputs": [
        {
          "output_type": "execute_result",
          "data": {
            "text/plain": [
              "(array([[5.11358e+01, 0.00000e+00, 1.81000e+01, ..., 2.02000e+01,\n",
              "         2.60000e+00, 1.01100e+01],\n",
              "        [5.73500e-02, 0.00000e+00, 4.49000e+00, ..., 1.85000e+01,\n",
              "         3.92300e+02, 6.53000e+00],\n",
              "        [3.57800e-02, 2.00000e+01, 3.33000e+00, ..., 1.49000e+01,\n",
              "         3.87310e+02, 3.76000e+00],\n",
              "        ...,\n",
              "        [9.51363e+00, 0.00000e+00, 1.81000e+01, ..., 2.02000e+01,\n",
              "         6.68000e+00, 1.87100e+01],\n",
              "        [2.44953e+00, 0.00000e+00, 1.95800e+01, ..., 1.47000e+01,\n",
              "         3.30040e+02, 1.13200e+01],\n",
              "        [1.96570e-01, 2.20000e+01, 5.86000e+00, ..., 1.91000e+01,\n",
              "         3.76140e+02, 1.01500e+01]]),\n",
              " array([[6.11540e-01, 2.00000e+01, 3.97000e+00, ..., 1.30000e+01,\n",
              "         3.89700e+02, 5.12000e+00],\n",
              "        [2.14090e-01, 2.20000e+01, 5.86000e+00, ..., 1.91000e+01,\n",
              "         3.77070e+02, 3.59000e+00],\n",
              "        [9.06500e-02, 2.00000e+01, 6.96000e+00, ..., 1.86000e+01,\n",
              "         3.91340e+02, 1.36500e+01],\n",
              "        ...,\n",
              "        [3.51140e-01, 0.00000e+00, 7.38000e+00, ..., 1.96000e+01,\n",
              "         3.96900e+02, 7.70000e+00],\n",
              "        [9.18702e+00, 0.00000e+00, 1.81000e+01, ..., 2.02000e+01,\n",
              "         3.96900e+02, 2.36000e+01],\n",
              "        [4.55587e+00, 0.00000e+00, 1.81000e+01, ..., 2.02000e+01,\n",
              "         3.54700e+02, 7.12000e+00]]))"
            ]
          },
          "metadata": {},
          "execution_count": 4
        }
      ]
    },
    {
      "cell_type": "code",
      "source": [
        "scaler = StandardScaler()\n",
        "scaler.fit(X_train)\n",
        "X_train = scaler.transform(X_train)\n",
        "X_test = scaler.transform(X_test)"
      ],
      "metadata": {
        "id": "4WQQZfgfRrgS"
      },
      "execution_count": 5,
      "outputs": []
    },
    {
      "cell_type": "code",
      "source": [
        "X_train, X_test"
      ],
      "metadata": {
        "colab": {
          "base_uri": "https://localhost:8080/"
        },
        "id": "5IvCI4ZnSPbv",
        "outputId": "e12ad93a-f81d-4de7-8299-0ed3cc1fa661"
      },
      "execution_count": 6,
      "outputs": [
        {
          "output_type": "execute_result",
          "data": {
            "text/plain": [
              "(array([[ 5.85233929, -0.48325508,  0.96757729, ...,  0.82585986,\n",
              "         -3.49352799, -0.3830306 ],\n",
              "        [-0.47378382, -0.48325508, -1.01913335, ...,  0.06092409,\n",
              "          0.41561094, -0.88066859],\n",
              "        [-0.47645529,  0.39893917, -1.18846358, ..., -1.5589399 ,\n",
              "          0.3655555 , -1.26571251],\n",
              "        ...,\n",
              "        [ 0.69738702, -0.48325508,  0.96757729, ...,  0.82585986,\n",
              "         -3.4526009 ,  0.81241261],\n",
              "        [-0.17750966, -0.48325508,  1.1836193 , ..., -1.64893234,\n",
              "         -0.20892842, -0.21483452],\n",
              "        [-0.45654127,  0.48715859, -0.81914852, ...,  0.33090142,\n",
              "          0.25350756, -0.3774704 ]]),\n",
              " array([[-0.40514677,  0.39893917, -1.09504001, ..., -2.41386811,\n",
              "          0.38952995, -1.07666568],\n",
              "        [-0.4543714 ,  0.48715859, -0.81914852, ...,  0.33090142,\n",
              "          0.26283653, -1.28934336],\n",
              "        [-0.46965958,  0.39893917, -0.65857676, ...,  0.10592031,\n",
              "          0.40598103,  0.10904719],\n",
              "        ...,\n",
              "        [-0.4373976 , -0.48325508, -0.59726754, ...,  0.55588253,\n",
              "          0.46175422, -0.71803271],\n",
              "        [ 0.65693601, -0.48325508,  0.96757729, ...,  0.82585986,\n",
              "          0.46175422,  1.49214718],\n",
              "        [ 0.0833629 , -0.48325508,  0.96757729, ...,  0.82585986,\n",
              "          0.03843972, -0.79865563]]))"
            ]
          },
          "metadata": {},
          "execution_count": 6
        }
      ]
    },
    {
      "cell_type": "markdown",
      "source": [
        "# Kreiranje mreze"
      ],
      "metadata": {
        "id": "KUBVrJAl7Z6R"
      }
    },
    {
      "cell_type": "code",
      "source": [
        "input_size = X_train.shape[1]\n",
        "output_size = 1"
      ],
      "metadata": {
        "id": "38uklXzMcxtA"
      },
      "execution_count": 7,
      "outputs": []
    },
    {
      "cell_type": "code",
      "source": [
        "model = Sequential([\n",
        "    InputLayer(input_shape=((input_size,))),\n",
        "    Dense(units=NUM_NEURONS_1, activation=\"relu\"),\n",
        "    Dense(units=NUM_NEURONS_2, activation=\"relu\"),\n",
        "    Dense(units=1)\n",
        "])"
      ],
      "metadata": {
        "id": "kocsAHqB7cWy"
      },
      "execution_count": 8,
      "outputs": []
    },
    {
      "cell_type": "code",
      "source": [
        "model.summary()"
      ],
      "metadata": {
        "colab": {
          "base_uri": "https://localhost:8080/"
        },
        "id": "oM_1_-2wG84o",
        "outputId": "142c1a1a-a4c1-4354-f8d3-f162cc99b7d6"
      },
      "execution_count": 9,
      "outputs": [
        {
          "output_type": "stream",
          "name": "stdout",
          "text": [
            "Model: \"sequential\"\n",
            "_________________________________________________________________\n",
            " Layer (type)                Output Shape              Param #   \n",
            "=================================================================\n",
            " dense (Dense)               (None, 100)               1400      \n",
            "                                                                 \n",
            " dense_1 (Dense)             (None, 50)                5050      \n",
            "                                                                 \n",
            " dense_2 (Dense)             (None, 1)                 51        \n",
            "                                                                 \n",
            "=================================================================\n",
            "Total params: 6501 (25.39 KB)\n",
            "Trainable params: 6501 (25.39 KB)\n",
            "Non-trainable params: 0 (0.00 Byte)\n",
            "_________________________________________________________________\n"
          ]
        }
      ]
    },
    {
      "cell_type": "markdown",
      "source": [
        "#Treniranje mreze"
      ],
      "metadata": {
        "id": "pwYNsCS0Tll0"
      }
    },
    {
      "cell_type": "code",
      "source": [
        "model.compile(optimizer=Adam(learning_rate=0.001), loss=MeanSquaredError(), metrics=[MeanAbsoluteError()])"
      ],
      "metadata": {
        "id": "zB3ewXlUHHTe"
      },
      "execution_count": 10,
      "outputs": []
    },
    {
      "cell_type": "code",
      "source": [
        "history = model.fit(X_train, y_train, validation_split=0.2, batch_size=BATCH_SIZE, epochs=NUM_EPOCHS, verbose=1)"
      ],
      "metadata": {
        "colab": {
          "base_uri": "https://localhost:8080/"
        },
        "id": "3ocMfJCyHpAT",
        "outputId": "a256a05e-468d-48e2-d74c-358e61d6ac5b"
      },
      "execution_count": 11,
      "outputs": [
        {
          "output_type": "stream",
          "name": "stdout",
          "text": [
            "Epoch 1/100\n",
            "5/5 [==============================] - 5s 282ms/step - loss: 564.7050 - mean_absolute_error: 21.4699 - val_loss: 590.2160 - val_mean_absolute_error: 20.7991\n",
            "Epoch 2/100\n",
            "5/5 [==============================] - 0s 23ms/step - loss: 540.9160 - mean_absolute_error: 21.3325 - val_loss: 566.0493 - val_mean_absolute_error: 20.1916\n",
            "Epoch 3/100\n",
            "5/5 [==============================] - 0s 35ms/step - loss: 516.1458 - mean_absolute_error: 20.6396 - val_loss: 540.1650 - val_mean_absolute_error: 19.5349\n",
            "Epoch 4/100\n",
            "5/5 [==============================] - 0s 56ms/step - loss: 490.4442 - mean_absolute_error: 19.5262 - val_loss: 512.2053 - val_mean_absolute_error: 18.8155\n",
            "Epoch 5/100\n",
            "5/5 [==============================] - 0s 45ms/step - loss: 461.7866 - mean_absolute_error: 19.1294 - val_loss: 482.1482 - val_mean_absolute_error: 18.0412\n",
            "Epoch 6/100\n",
            "5/5 [==============================] - 0s 44ms/step - loss: 430.6098 - mean_absolute_error: 18.3971 - val_loss: 448.5771 - val_mean_absolute_error: 17.1934\n",
            "Epoch 7/100\n",
            "5/5 [==============================] - 0s 32ms/step - loss: 396.1703 - mean_absolute_error: 17.5886 - val_loss: 410.6791 - val_mean_absolute_error: 16.2178\n",
            "Epoch 8/100\n",
            "5/5 [==============================] - 0s 23ms/step - loss: 357.1383 - mean_absolute_error: 16.5298 - val_loss: 369.0212 - val_mean_absolute_error: 15.1263\n",
            "Epoch 9/100\n",
            "5/5 [==============================] - 0s 35ms/step - loss: 315.7470 - mean_absolute_error: 15.2412 - val_loss: 323.8642 - val_mean_absolute_error: 13.9216\n",
            "Epoch 10/100\n",
            "5/5 [==============================] - 0s 21ms/step - loss: 271.0998 - mean_absolute_error: 13.3977 - val_loss: 276.8746 - val_mean_absolute_error: 12.5898\n",
            "Epoch 11/100\n",
            "5/5 [==============================] - 0s 25ms/step - loss: 225.2095 - mean_absolute_error: 12.6037 - val_loss: 231.1252 - val_mean_absolute_error: 11.1264\n",
            "Epoch 12/100\n",
            "5/5 [==============================] - 0s 39ms/step - loss: 181.9591 - mean_absolute_error: 11.1329 - val_loss: 188.2024 - val_mean_absolute_error: 9.5347\n",
            "Epoch 13/100\n",
            "5/5 [==============================] - 0s 33ms/step - loss: 143.8782 - mean_absolute_error: 9.5213 - val_loss: 151.1598 - val_mean_absolute_error: 8.1257\n",
            "Epoch 14/100\n",
            "5/5 [==============================] - 0s 27ms/step - loss: 111.3653 - mean_absolute_error: 8.3807 - val_loss: 122.4714 - val_mean_absolute_error: 6.9005\n",
            "Epoch 15/100\n",
            "5/5 [==============================] - 0s 15ms/step - loss: 89.2347 - mean_absolute_error: 7.4056 - val_loss: 102.2132 - val_mean_absolute_error: 5.8183\n",
            "Epoch 16/100\n",
            "5/5 [==============================] - 0s 10ms/step - loss: 74.8378 - mean_absolute_error: 7.0858 - val_loss: 89.1668 - val_mean_absolute_error: 5.3176\n",
            "Epoch 17/100\n",
            "5/5 [==============================] - 0s 14ms/step - loss: 65.1493 - mean_absolute_error: 6.1222 - val_loss: 79.3748 - val_mean_absolute_error: 5.0864\n",
            "Epoch 18/100\n",
            "5/5 [==============================] - 0s 14ms/step - loss: 56.9308 - mean_absolute_error: 5.9543 - val_loss: 71.0316 - val_mean_absolute_error: 4.7428\n",
            "Epoch 19/100\n",
            "5/5 [==============================] - 0s 10ms/step - loss: 50.4828 - mean_absolute_error: 5.3605 - val_loss: 63.6159 - val_mean_absolute_error: 4.3137\n",
            "Epoch 20/100\n",
            "5/5 [==============================] - 0s 14ms/step - loss: 43.9315 - mean_absolute_error: 5.1641 - val_loss: 57.1823 - val_mean_absolute_error: 3.8428\n",
            "Epoch 21/100\n",
            "5/5 [==============================] - 0s 10ms/step - loss: 38.6284 - mean_absolute_error: 5.0088 - val_loss: 52.2554 - val_mean_absolute_error: 3.4453\n",
            "Epoch 22/100\n",
            "5/5 [==============================] - 0s 10ms/step - loss: 33.9246 - mean_absolute_error: 4.5259 - val_loss: 48.5744 - val_mean_absolute_error: 3.3281\n",
            "Epoch 23/100\n",
            "5/5 [==============================] - 0s 14ms/step - loss: 30.5956 - mean_absolute_error: 3.9585 - val_loss: 46.0293 - val_mean_absolute_error: 3.3769\n",
            "Epoch 24/100\n",
            "5/5 [==============================] - 0s 10ms/step - loss: 28.2234 - mean_absolute_error: 3.8135 - val_loss: 44.0244 - val_mean_absolute_error: 3.4053\n",
            "Epoch 25/100\n",
            "5/5 [==============================] - 0s 10ms/step - loss: 26.2248 - mean_absolute_error: 3.8622 - val_loss: 42.2268 - val_mean_absolute_error: 3.3910\n",
            "Epoch 26/100\n",
            "5/5 [==============================] - 0s 14ms/step - loss: 24.6745 - mean_absolute_error: 3.6099 - val_loss: 40.6295 - val_mean_absolute_error: 3.3739\n",
            "Epoch 27/100\n",
            "5/5 [==============================] - 0s 12ms/step - loss: 23.3877 - mean_absolute_error: 3.5918 - val_loss: 39.0655 - val_mean_absolute_error: 3.3382\n",
            "Epoch 28/100\n",
            "5/5 [==============================] - 0s 17ms/step - loss: 22.2965 - mean_absolute_error: 3.5237 - val_loss: 38.0020 - val_mean_absolute_error: 3.3197\n",
            "Epoch 29/100\n",
            "5/5 [==============================] - 0s 13ms/step - loss: 21.3618 - mean_absolute_error: 3.3254 - val_loss: 37.1533 - val_mean_absolute_error: 3.3252\n",
            "Epoch 30/100\n",
            "5/5 [==============================] - 0s 11ms/step - loss: 20.5754 - mean_absolute_error: 3.3203 - val_loss: 36.4164 - val_mean_absolute_error: 3.3139\n",
            "Epoch 31/100\n",
            "5/5 [==============================] - 0s 14ms/step - loss: 19.9183 - mean_absolute_error: 3.3651 - val_loss: 35.7385 - val_mean_absolute_error: 3.2849\n",
            "Epoch 32/100\n",
            "5/5 [==============================] - 0s 11ms/step - loss: 19.3160 - mean_absolute_error: 3.3921 - val_loss: 35.2281 - val_mean_absolute_error: 3.2827\n",
            "Epoch 33/100\n",
            "5/5 [==============================] - 0s 14ms/step - loss: 18.7844 - mean_absolute_error: 3.0757 - val_loss: 34.9856 - val_mean_absolute_error: 3.2677\n",
            "Epoch 34/100\n",
            "5/5 [==============================] - 0s 10ms/step - loss: 18.2578 - mean_absolute_error: 3.0118 - val_loss: 34.3619 - val_mean_absolute_error: 3.2680\n",
            "Epoch 35/100\n",
            "5/5 [==============================] - 0s 14ms/step - loss: 17.8274 - mean_absolute_error: 3.0285 - val_loss: 33.7324 - val_mean_absolute_error: 3.2662\n",
            "Epoch 36/100\n",
            "5/5 [==============================] - 0s 10ms/step - loss: 17.4301 - mean_absolute_error: 3.0131 - val_loss: 33.2023 - val_mean_absolute_error: 3.2713\n",
            "Epoch 37/100\n",
            "5/5 [==============================] - 0s 10ms/step - loss: 17.0400 - mean_absolute_error: 3.2208 - val_loss: 32.5139 - val_mean_absolute_error: 3.2582\n",
            "Epoch 38/100\n",
            "5/5 [==============================] - 0s 11ms/step - loss: 16.6648 - mean_absolute_error: 2.8533 - val_loss: 31.8488 - val_mean_absolute_error: 3.2506\n",
            "Epoch 39/100\n",
            "5/5 [==============================] - 0s 15ms/step - loss: 16.4206 - mean_absolute_error: 2.8420 - val_loss: 31.1849 - val_mean_absolute_error: 3.2408\n",
            "Epoch 40/100\n",
            "5/5 [==============================] - 0s 10ms/step - loss: 16.1505 - mean_absolute_error: 2.9342 - val_loss: 30.6797 - val_mean_absolute_error: 3.2151\n",
            "Epoch 41/100\n",
            "5/5 [==============================] - 0s 9ms/step - loss: 15.8578 - mean_absolute_error: 2.9876 - val_loss: 30.3777 - val_mean_absolute_error: 3.1981\n",
            "Epoch 42/100\n",
            "5/5 [==============================] - 0s 10ms/step - loss: 15.5298 - mean_absolute_error: 2.8987 - val_loss: 30.2527 - val_mean_absolute_error: 3.2154\n",
            "Epoch 43/100\n",
            "5/5 [==============================] - 0s 10ms/step - loss: 15.2219 - mean_absolute_error: 2.7072 - val_loss: 30.1572 - val_mean_absolute_error: 3.2081\n",
            "Epoch 44/100\n",
            "5/5 [==============================] - 0s 10ms/step - loss: 14.9778 - mean_absolute_error: 2.9175 - val_loss: 30.0855 - val_mean_absolute_error: 3.2063\n",
            "Epoch 45/100\n",
            "5/5 [==============================] - 0s 10ms/step - loss: 14.7383 - mean_absolute_error: 2.8838 - val_loss: 29.8937 - val_mean_absolute_error: 3.1755\n",
            "Epoch 46/100\n",
            "5/5 [==============================] - 0s 14ms/step - loss: 14.5843 - mean_absolute_error: 2.9273 - val_loss: 29.7639 - val_mean_absolute_error: 3.1586\n",
            "Epoch 47/100\n",
            "5/5 [==============================] - 0s 10ms/step - loss: 14.2616 - mean_absolute_error: 2.8486 - val_loss: 29.0689 - val_mean_absolute_error: 3.1513\n",
            "Epoch 48/100\n",
            "5/5 [==============================] - 0s 10ms/step - loss: 14.0181 - mean_absolute_error: 2.7254 - val_loss: 28.4376 - val_mean_absolute_error: 3.1653\n",
            "Epoch 49/100\n",
            "5/5 [==============================] - 0s 13ms/step - loss: 13.7973 - mean_absolute_error: 2.7967 - val_loss: 27.9945 - val_mean_absolute_error: 3.1730\n",
            "Epoch 50/100\n",
            "5/5 [==============================] - 0s 10ms/step - loss: 13.6359 - mean_absolute_error: 2.6543 - val_loss: 27.7110 - val_mean_absolute_error: 3.1620\n",
            "Epoch 51/100\n",
            "5/5 [==============================] - 0s 13ms/step - loss: 13.4499 - mean_absolute_error: 2.7416 - val_loss: 27.6553 - val_mean_absolute_error: 3.1594\n",
            "Epoch 52/100\n",
            "5/5 [==============================] - 0s 10ms/step - loss: 13.1905 - mean_absolute_error: 2.7474 - val_loss: 27.2298 - val_mean_absolute_error: 3.1089\n",
            "Epoch 53/100\n",
            "5/5 [==============================] - 0s 13ms/step - loss: 13.0146 - mean_absolute_error: 2.5915 - val_loss: 26.9262 - val_mean_absolute_error: 3.0876\n",
            "Epoch 54/100\n",
            "5/5 [==============================] - 0s 10ms/step - loss: 12.8664 - mean_absolute_error: 2.6163 - val_loss: 26.8220 - val_mean_absolute_error: 3.0963\n",
            "Epoch 55/100\n",
            "5/5 [==============================] - 0s 10ms/step - loss: 12.6926 - mean_absolute_error: 2.7846 - val_loss: 26.6764 - val_mean_absolute_error: 3.1019\n",
            "Epoch 56/100\n",
            "5/5 [==============================] - 0s 13ms/step - loss: 12.5290 - mean_absolute_error: 2.7362 - val_loss: 26.6130 - val_mean_absolute_error: 3.0619\n",
            "Epoch 57/100\n",
            "5/5 [==============================] - 0s 20ms/step - loss: 12.3329 - mean_absolute_error: 2.4796 - val_loss: 26.3066 - val_mean_absolute_error: 3.0121\n",
            "Epoch 58/100\n",
            "5/5 [==============================] - 0s 19ms/step - loss: 12.2468 - mean_absolute_error: 2.5388 - val_loss: 25.9430 - val_mean_absolute_error: 3.0094\n",
            "Epoch 59/100\n",
            "5/5 [==============================] - 0s 14ms/step - loss: 12.0807 - mean_absolute_error: 2.3458 - val_loss: 25.5452 - val_mean_absolute_error: 3.0279\n",
            "Epoch 60/100\n",
            "5/5 [==============================] - 0s 17ms/step - loss: 11.9604 - mean_absolute_error: 2.4873 - val_loss: 25.2690 - val_mean_absolute_error: 3.0352\n",
            "Epoch 61/100\n",
            "5/5 [==============================] - 0s 15ms/step - loss: 11.8194 - mean_absolute_error: 2.5007 - val_loss: 25.0726 - val_mean_absolute_error: 3.0361\n",
            "Epoch 62/100\n",
            "5/5 [==============================] - 0s 18ms/step - loss: 11.7094 - mean_absolute_error: 2.4391 - val_loss: 24.8861 - val_mean_absolute_error: 3.0121\n",
            "Epoch 63/100\n",
            "5/5 [==============================] - 0s 17ms/step - loss: 11.6183 - mean_absolute_error: 2.4695 - val_loss: 24.6203 - val_mean_absolute_error: 2.9893\n",
            "Epoch 64/100\n",
            "5/5 [==============================] - 0s 14ms/step - loss: 11.4898 - mean_absolute_error: 2.6115 - val_loss: 24.6841 - val_mean_absolute_error: 2.9847\n",
            "Epoch 65/100\n",
            "5/5 [==============================] - 0s 14ms/step - loss: 11.3494 - mean_absolute_error: 2.4547 - val_loss: 24.6564 - val_mean_absolute_error: 2.9868\n",
            "Epoch 66/100\n",
            "5/5 [==============================] - 0s 18ms/step - loss: 11.2857 - mean_absolute_error: 2.4672 - val_loss: 24.7043 - val_mean_absolute_error: 2.9814\n",
            "Epoch 67/100\n",
            "5/5 [==============================] - 0s 17ms/step - loss: 11.1886 - mean_absolute_error: 2.3435 - val_loss: 24.2739 - val_mean_absolute_error: 2.9438\n",
            "Epoch 68/100\n",
            "5/5 [==============================] - 0s 14ms/step - loss: 11.1040 - mean_absolute_error: 2.3865 - val_loss: 23.9385 - val_mean_absolute_error: 2.9319\n",
            "Epoch 69/100\n",
            "5/5 [==============================] - 0s 16ms/step - loss: 10.9762 - mean_absolute_error: 2.3500 - val_loss: 23.8562 - val_mean_absolute_error: 2.9426\n",
            "Epoch 70/100\n",
            "5/5 [==============================] - 0s 10ms/step - loss: 10.8906 - mean_absolute_error: 2.3216 - val_loss: 23.8315 - val_mean_absolute_error: 2.9655\n",
            "Epoch 71/100\n",
            "5/5 [==============================] - 0s 15ms/step - loss: 10.8187 - mean_absolute_error: 2.5320 - val_loss: 23.7037 - val_mean_absolute_error: 2.9892\n",
            "Epoch 72/100\n",
            "5/5 [==============================] - 0s 10ms/step - loss: 10.7439 - mean_absolute_error: 2.3462 - val_loss: 23.4634 - val_mean_absolute_error: 3.0007\n",
            "Epoch 73/100\n",
            "5/5 [==============================] - 0s 10ms/step - loss: 10.6245 - mean_absolute_error: 2.3322 - val_loss: 23.3004 - val_mean_absolute_error: 3.0093\n",
            "Epoch 74/100\n",
            "5/5 [==============================] - 0s 14ms/step - loss: 10.5741 - mean_absolute_error: 2.4742 - val_loss: 23.2390 - val_mean_absolute_error: 3.0243\n",
            "Epoch 75/100\n",
            "5/5 [==============================] - 0s 14ms/step - loss: 10.4834 - mean_absolute_error: 2.2377 - val_loss: 23.1226 - val_mean_absolute_error: 3.0370\n",
            "Epoch 76/100\n",
            "5/5 [==============================] - 0s 14ms/step - loss: 10.4540 - mean_absolute_error: 2.4303 - val_loss: 23.1043 - val_mean_absolute_error: 3.0490\n",
            "Epoch 77/100\n",
            "5/5 [==============================] - 0s 15ms/step - loss: 10.3892 - mean_absolute_error: 2.2130 - val_loss: 22.9210 - val_mean_absolute_error: 3.0543\n",
            "Epoch 78/100\n",
            "5/5 [==============================] - 0s 10ms/step - loss: 10.2788 - mean_absolute_error: 2.2213 - val_loss: 22.7948 - val_mean_absolute_error: 3.0443\n",
            "Epoch 79/100\n",
            "5/5 [==============================] - 0s 10ms/step - loss: 10.2163 - mean_absolute_error: 2.5084 - val_loss: 22.7649 - val_mean_absolute_error: 3.0335\n",
            "Epoch 80/100\n",
            "5/5 [==============================] - 0s 14ms/step - loss: 10.1648 - mean_absolute_error: 2.1652 - val_loss: 22.6793 - val_mean_absolute_error: 2.9945\n",
            "Epoch 81/100\n",
            "5/5 [==============================] - 0s 14ms/step - loss: 10.0297 - mean_absolute_error: 2.2858 - val_loss: 22.4146 - val_mean_absolute_error: 2.9615\n",
            "Epoch 82/100\n",
            "5/5 [==============================] - 0s 10ms/step - loss: 9.9764 - mean_absolute_error: 2.4087 - val_loss: 22.1957 - val_mean_absolute_error: 2.9427\n",
            "Epoch 83/100\n",
            "5/5 [==============================] - 0s 12ms/step - loss: 9.9074 - mean_absolute_error: 2.3609 - val_loss: 22.1929 - val_mean_absolute_error: 2.9369\n",
            "Epoch 84/100\n",
            "5/5 [==============================] - 0s 10ms/step - loss: 9.8453 - mean_absolute_error: 2.2729 - val_loss: 22.4474 - val_mean_absolute_error: 2.9612\n",
            "Epoch 85/100\n",
            "5/5 [==============================] - 0s 11ms/step - loss: 9.8665 - mean_absolute_error: 2.2331 - val_loss: 22.6091 - val_mean_absolute_error: 2.9770\n",
            "Epoch 86/100\n",
            "5/5 [==============================] - 0s 11ms/step - loss: 9.7889 - mean_absolute_error: 2.1804 - val_loss: 22.3886 - val_mean_absolute_error: 2.9795\n",
            "Epoch 87/100\n",
            "5/5 [==============================] - 0s 14ms/step - loss: 9.6765 - mean_absolute_error: 2.1240 - val_loss: 22.1909 - val_mean_absolute_error: 2.9856\n",
            "Epoch 88/100\n",
            "5/5 [==============================] - 0s 14ms/step - loss: 9.6150 - mean_absolute_error: 2.1748 - val_loss: 21.9255 - val_mean_absolute_error: 2.9759\n",
            "Epoch 89/100\n",
            "5/5 [==============================] - 0s 14ms/step - loss: 9.5389 - mean_absolute_error: 2.2066 - val_loss: 21.7514 - val_mean_absolute_error: 2.9737\n",
            "Epoch 90/100\n",
            "5/5 [==============================] - 0s 15ms/step - loss: 9.4891 - mean_absolute_error: 2.2201 - val_loss: 21.6099 - val_mean_absolute_error: 2.9827\n",
            "Epoch 91/100\n",
            "5/5 [==============================] - 0s 14ms/step - loss: 9.4256 - mean_absolute_error: 2.2059 - val_loss: 21.4159 - val_mean_absolute_error: 2.9923\n",
            "Epoch 92/100\n",
            "5/5 [==============================] - 0s 14ms/step - loss: 9.3690 - mean_absolute_error: 2.3054 - val_loss: 21.5124 - val_mean_absolute_error: 3.0130\n",
            "Epoch 93/100\n",
            "5/5 [==============================] - 0s 13ms/step - loss: 9.3146 - mean_absolute_error: 2.0820 - val_loss: 21.6729 - val_mean_absolute_error: 3.0231\n",
            "Epoch 94/100\n",
            "5/5 [==============================] - 0s 15ms/step - loss: 9.2601 - mean_absolute_error: 2.2379 - val_loss: 21.5695 - val_mean_absolute_error: 3.0000\n",
            "Epoch 95/100\n",
            "5/5 [==============================] - 0s 11ms/step - loss: 9.2145 - mean_absolute_error: 2.0959 - val_loss: 21.3622 - val_mean_absolute_error: 2.9690\n",
            "Epoch 96/100\n",
            "5/5 [==============================] - 0s 10ms/step - loss: 9.2041 - mean_absolute_error: 2.1424 - val_loss: 21.2449 - val_mean_absolute_error: 2.9541\n",
            "Epoch 97/100\n",
            "5/5 [==============================] - 0s 10ms/step - loss: 9.1393 - mean_absolute_error: 2.1292 - val_loss: 21.3582 - val_mean_absolute_error: 2.9595\n",
            "Epoch 98/100\n",
            "5/5 [==============================] - 0s 15ms/step - loss: 9.0629 - mean_absolute_error: 2.1067 - val_loss: 21.4359 - val_mean_absolute_error: 2.9778\n",
            "Epoch 99/100\n",
            "5/5 [==============================] - 0s 15ms/step - loss: 9.0327 - mean_absolute_error: 2.1111 - val_loss: 21.4042 - val_mean_absolute_error: 2.9751\n",
            "Epoch 100/100\n",
            "5/5 [==============================] - 0s 11ms/step - loss: 8.9718 - mean_absolute_error: 2.1704 - val_loss: 21.3974 - val_mean_absolute_error: 2.9595\n"
          ]
        }
      ]
    },
    {
      "cell_type": "code",
      "source": [
        "fig, ax = plt.subplots(1, 2, figsize=(8, 4))\n",
        "\n",
        "ax[0].plot(history.epoch, history.history[\"loss\"], label=\"loss\", color=\"red\")\n",
        "ax[0].plot(history.epoch, history.history[\"val_loss\"], label=\"val_loss\", color=\"orange\")\n",
        "ax[0].set_xlabel(\"epochs\")\n",
        "ax[0].set_ylabel(\"loss\")\n",
        "ax[0].legend()\n",
        "\n",
        "ax[1].plot(history.epoch, history.history[\"mean_absolute_error\"], label=\"mae\", color=\"green\")\n",
        "ax[1].plot(history.epoch, history.history[\"val_mean_absolute_error\"], label=\"val_mae\", color=\"blue\")\n",
        "ax[1].set_xlabel(\"epochs\")\n",
        "ax[1].set_ylabel(\"accuracy\")\n",
        "ax[1].legend()\n",
        "\n",
        "plt.show()"
      ],
      "metadata": {
        "colab": {
          "base_uri": "https://localhost:8080/",
          "height": 388
        },
        "id": "zVU1HHdmKOuz",
        "outputId": "9862a277-be6a-4948-ecb9-041362ebe3c3"
      },
      "execution_count": 12,
      "outputs": [
        {
          "output_type": "display_data",
          "data": {
            "text/plain": [
              "<Figure size 800x400 with 2 Axes>"
            ],
            "image/png": "[encoded data removed]"
          },
          "metadata": {}
        }
      ]
    },
    {
      "cell_type": "markdown",
      "source": [
        "#Ocenjivanje mreze"
      ],
      "metadata": {
        "id": "L-hHyJtDTqAk"
      }
    },
    {
      "cell_type": "code",
      "source": [
        "scores = model.evaluate(X_test, y_test, batch_size=BATCH_SIZE)"
      ],
      "metadata": {
        "colab": {
          "base_uri": "https://localhost:8080/"
        },
        "id": "W9IIKr1wLHl2",
        "outputId": "6d468a31-df49-4ab4-e8ce-128207b52a75"
      },
      "execution_count": 13,
      "outputs": [
        {
          "output_type": "stream",
          "name": "stdout",
          "text": [
            "3/3 [==============================] - 0s 5ms/step - loss: 17.2046 - mean_absolute_error: 2.7983\n"
          ]
        }
      ]
    },
    {
      "cell_type": "code",
      "source": [
        "model.metrics_names"
      ],
      "metadata": {
        "colab": {
          "base_uri": "https://localhost:8080/"
        },
        "id": "f8FCLafrSjqQ",
        "outputId": "4963cc9d-c3d2-4612-87a5-9fd004a89210"
      },
      "execution_count": 14,
      "outputs": [
        {
          "output_type": "execute_result",
          "data": {
            "text/plain": [
              "['loss', 'mean_absolute_error']"
            ]
          },
          "metadata": {},
          "execution_count": 14
        }
      ]
    },
    {
      "cell_type": "code",
      "source": [
        "scores"
      ],
      "metadata": {
        "colab": {
          "base_uri": "https://localhost:8080/"
        },
        "id": "RXi5VnvtSQAR",
        "outputId": "aaca0702-eba8-4390-cafc-decd3dc239da"
      },
      "execution_count": 15,
      "outputs": [
        {
          "output_type": "execute_result",
          "data": {
            "text/plain": [
              "[17.20464515686035, 2.798276901245117]"
            ]
          },
          "metadata": {},
          "execution_count": 15
        }
      ]
    },
    {
      "cell_type": "code",
      "source": [
        "y_predict = model.predict(X_test)"
      ],
      "metadata": {
        "colab": {
          "base_uri": "https://localhost:8080/"
        },
        "id": "ehpabqXSSno-",
        "outputId": "4d1f1e4a-0a92-4c36-ec01-e3c13c57f766"
      },
      "execution_count": 16,
      "outputs": [
        {
          "output_type": "stream",
          "name": "stdout",
          "text": [
            "6/6 [==============================] - 0s 2ms/step\n"
          ]
        }
      ]
    },
    {
      "cell_type": "code",
      "source": [
        "r2 = r2_score(y_test, y_predict)\n",
        "r2"
      ],
      "metadata": {
        "colab": {
          "base_uri": "https://localhost:8080/"
        },
        "id": "otgTkCqdUPmX",
        "outputId": "c3d87ae2-4e10-41f1-ea7a-b9a591730674"
      },
      "execution_count": 17,
      "outputs": [
        {
          "output_type": "execute_result",
          "data": {
            "text/plain": [
              "0.7727537452279627"
            ]
          },
          "metadata": {},
          "execution_count": 17
        }
      ]
    },
    {
      "cell_type": "code",
      "source": [
        "X_train.shape"
      ],
      "metadata": {
        "colab": {
          "base_uri": "https://localhost:8080/"
        },
        "id": "KymND6nev7l4",
        "outputId": "a5581ce2-a578-4535-ff4b-caa8fac0188a"
      },
      "execution_count": 18,
      "outputs": [
        {
          "output_type": "execute_result",
          "data": {
            "text/plain": [
              "(339, 13)"
            ]
          },
          "metadata": {},
          "execution_count": 18
        }
      ]
    },
    {
      "cell_type": "code",
      "source": [
        "X_new = np.random.randn(input_size)\n",
        "X_new = X_new.reshape(1, 13)\n",
        "X_new = scaler.transform(X_new)"
      ],
      "metadata": {
        "id": "OdJm9fHUbiFw"
      },
      "execution_count": 19,
      "outputs": []
    },
    {
      "cell_type": "code",
      "source": [
        "y_new = model.predict(X_new)"
      ],
      "metadata": {
        "colab": {
          "base_uri": "https://localhost:8080/"
        },
        "id": "P7YyrA6PvDpL",
        "outputId": "ddf361ab-e34c-4390-dbdc-b06c1ad8422e"
      },
      "execution_count": 20,
      "outputs": [
        {
          "output_type": "stream",
          "name": "stdout",
          "text": [
            "1/1 [==============================] - 0s 21ms/step\n"
          ]
        }
      ]
    },
    {
      "cell_type": "code",
      "source": [
        "y_new"
      ],
      "metadata": {
        "colab": {
          "base_uri": "https://localhost:8080/"
        },
        "id": "gEFXRxUM_dg3",
        "outputId": "5ed7743d-61cb-4d28-96fb-da28c8ae1625"
      },
      "execution_count": 21,
      "outputs": [
        {
          "output_type": "execute_result",
          "data": {
            "text/plain": [
              "array([[62.343246]], dtype=float32)"
            ]
          },
          "metadata": {},
          "execution_count": 21
        }
      ]
    },
    {
      "cell_type": "code",
      "source": [],
      "metadata": {
        "id": "NuOQfw4g_kSp"
      },
      "execution_count": 21,
      "outputs": []
    }
  ]
}